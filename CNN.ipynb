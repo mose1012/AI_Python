{
  "cells": [
    {
      "cell_type": "markdown",
      "metadata": {
        "id": "view-in-github",
        "colab_type": "text"
      },
      "source": [
        "<a href=\"https://colab.research.google.com/github/mose1012/AI_Python/blob/main/CNN.ipynb\" target=\"_parent\"><img src=\"https://colab.research.google.com/assets/colab-badge.svg\" alt=\"Open In Colab\"/></a>"
      ]
    },
    {
      "cell_type": "markdown",
      "id": "476046d2-fcba-4870-b367-f951c715f317",
      "metadata": {
        "id": "476046d2-fcba-4870-b367-f951c715f317"
      },
      "source": [
        "<div class=\"warning\" style='padding:0.1em; background-color:#E9D8FD; color:#69337A'>\n",
        "<span>\n",
        "<p style='margin-top:1em; text-align:center'>\n",
        "<h1>[종합설계프로젝트] AI Lecture note</h1></p>\n",
        "</div>\n",
        "\n"
      ]
    },
    {
      "cell_type": "markdown",
      "source": [
        "---\n",
        "### 구글 코랩 실행 (구글에서 코랩을 검색)\n",
        "---"
      ],
      "metadata": {
        "id": "1i-4g_wq2tJb"
      },
      "id": "1i-4g_wq2tJb"
    },
    {
      "cell_type": "markdown",
      "source": [
        "1. Why Numpy?\n",
        "\n",
        "+ 데이터는 이미지 데이터, 오디오 데이터, 텍스트 데이터, 숫자 데이터 포함하는 다양한 형태와 크기로 제공되지만 컴퓨터는 0과 1만 이해합니다.\n",
        "\n",
        "+ 기본적으로 데이터는 숫자 배열로 생각할 수 있습니다. 실제로 데이터 분석을 수행하기 위한 전제 조건은 데이터를 수치 형식으로 변환하는 것입니다. 이는 *배열을 효율적으로 저장하고 조작하는 것이 중요하다는 것을 의미합니다.*\n",
        "\n",
        "+ 이제 여러분은 \"NumPy 배열을 사용해야 하나요?\"라고 질문할 수 있습니다.  Numpy의 장점은 어레이의 크기가 커짐에 따라 보다 효율적인 저장 및 데이터 작업을 제공한다는 것입니다. 이것이 NumPy 배열이 Python의 거의 모든 데이터 과학 도구의 핵심인 이유입니다.\n"
      ],
      "metadata": {
        "id": "q0QNumE84LoD"
      },
      "id": "q0QNumE84LoD"
    },
    {
      "cell_type": "markdown",
      "source": [
        "1.1 Array 생성\n",
        "\n",
        "배열을 만드는 방법은 여러가지가 있지만 1D Array 부터 생성해보자면,\n"
      ],
      "metadata": {
        "id": "i6WfMmgH4_bB"
      },
      "id": "i6WfMmgH4_bB"
    },
    {
      "cell_type": "code",
      "source": [
        "import numpy as np # Numpy 를 np로 선언함\n",
        "\n",
        "np.array([1, 2, 3, 4]) # 1D Array 생성"
      ],
      "metadata": {
        "colab": {
          "base_uri": "https://localhost:8080/"
        },
        "id": "eKuI4DQa5ENG",
        "outputId": "ba6ea57e-70b3-4df0-ae6c-5cd91bcbb37c"
      },
      "id": "eKuI4DQa5ENG",
      "execution_count": null,
      "outputs": [
        {
          "output_type": "execute_result",
          "data": {
            "text/plain": [
              "array([1, 2, 3, 4])"
            ]
          },
          "metadata": {},
          "execution_count": 1
        }
      ]
    },
    {
      "cell_type": "markdown",
      "source": [
        "+ 1D, 2D, 3D array의 의미가 무엇인가?\n",
        "\n",
        "<img src=https://fgnt.github.io/python_crashkurs_doc/_images/numpy_array_t.png width=\"500\">\n",
        "\n",
        "D(demension)는 차원을 뜻하며 데이터의 형태를 알 수 있다.\n"
      ],
      "metadata": {
        "id": "H6DT42Rn5P-m"
      },
      "id": "H6DT42Rn5P-m"
    },
    {
      "cell_type": "markdown",
      "source": [
        "+ 2D Array 생성"
      ],
      "metadata": {
        "id": "oj2piXtJ64zH"
      },
      "id": "oj2piXtJ64zH"
    },
    {
      "cell_type": "code",
      "source": [
        "np.array([[0,1,2], [3,4,5], [6,7,8]])"
      ],
      "metadata": {
        "colab": {
          "base_uri": "https://localhost:8080/"
        },
        "id": "bgWc5LYQ7A2l",
        "outputId": "ad9c9d02-88db-4b67-bc79-a819e7994420"
      },
      "id": "bgWc5LYQ7A2l",
      "execution_count": null,
      "outputs": [
        {
          "output_type": "execute_result",
          "data": {
            "text/plain": [
              "array([[0, 1, 2],\n",
              "       [3, 4, 5],\n",
              "       [6, 7, 8]])"
            ]
          },
          "metadata": {},
          "execution_count": 2
        }
      ]
    },
    {
      "cell_type": "markdown",
      "source": [
        "+ List 자료형 vs Numpy\n",
        "\n",
        "Python에 자료형 구조인 List의 경우 Numpy와 동일하게 동작한다.\n",
        "\n",
        "다만 Python List는 Vector화된 작업을 수행할 수 없으며 List는 Vector화된 작업이 가능하다.\n",
        "\n",
        "여기서 Vector화된 작업은 벡터 연산을 뜻하며 함수가 배열의 모든 항목에 적용된다는것을 뜻한다.\n"
      ],
      "metadata": {
        "id": "r6h7gOwH7UKk"
      },
      "id": "r6h7gOwH7UKk"
    },
    {
      "cell_type": "code",
      "source": [
        "a = list([1,2,3])\n",
        "b = np.array([1,2,3])\n",
        "\n",
        "\n",
        "print(f'list = ', a*2)\n",
        "print(f'np.array = ', b*2)"
      ],
      "metadata": {
        "colab": {
          "base_uri": "https://localhost:8080/"
        },
        "id": "SprueTVr9BgM",
        "outputId": "94f88864-317e-425f-be94-25be6b0aa6a4"
      },
      "id": "SprueTVr9BgM",
      "execution_count": null,
      "outputs": [
        {
          "output_type": "stream",
          "name": "stdout",
          "text": [
            "list =  [1, 2, 3, 1, 2, 3]\n",
            "np.array =  [2 4 6]\n"
          ]
        }
      ]
    },
    {
      "cell_type": "markdown",
      "source": [
        "+ Numpy의 다양한 속성\n",
        "\n",
        "Numpy에는 다양한 속성이 포함되어 있습니다.\n",
        "\n",
        "ndim: 차원의 수\\\n",
        "shape: 각 차원의 크기\\\n",
        "size: 배열의 전체 크기\\\n",
        "dtype: 배열의 데이터 유형\\\n",
        "itemsize : array의 크기(바이트)\\\n",
        "nbytes: array의 전체 크기(바이트)\n"
      ],
      "metadata": {
        "id": "imB--dZ392Kc"
      },
      "id": "imB--dZ392Kc"
    },
    {
      "cell_type": "code",
      "source": [
        "import numpy as np\n",
        "\n",
        "#  randint 함수를 통해 0~9 사이에 숫자에서  3x3 array 를 생성\n",
        "x = np.random.randint(0, 10, (3, 3))\n",
        "print(x)\n",
        "print(\"ndim: \", x.ndim)\n",
        "print(\"shape:\", x.shape)\n",
        "print(\"x size: \", x.size)\n",
        "print(\"dtype:\", x.dtype)\n",
        "print(\"itemsize:\", x.itemsize, \"bytes\")\n",
        "print(\"nbytes:\", x.nbytes, \"bytes\")"
      ],
      "metadata": {
        "colab": {
          "base_uri": "https://localhost:8080/"
        },
        "id": "c1gr0IID-Vto",
        "outputId": "eadf540f-cdfb-4a40-9325-598176787f0d"
      },
      "id": "c1gr0IID-Vto",
      "execution_count": null,
      "outputs": [
        {
          "output_type": "stream",
          "name": "stdout",
          "text": [
            "[[5 1 1]\n",
            " [9 6 4]\n",
            " [1 7 4]]\n",
            "ndim:  2\n",
            "shape: (3, 3)\n",
            "x size:  9\n",
            "dtype: int64\n",
            "itemsize: 8 bytes\n",
            "nbytes: 72 bytes\n"
          ]
        }
      ]
    },
    {
      "cell_type": "markdown",
      "source": [
        "1.2 Array Indexing and slicing\n",
        "\n",
        "1.2.1 Indexing\n",
        "\n",
        "특정 element에 접근하는것을 Array indexing이라 부른다."
      ],
      "metadata": {
        "id": "gV76dGH7_Zro"
      },
      "id": "gV76dGH7_Zro"
    },
    {
      "cell_type": "code",
      "source": [
        "x1 = np.array([1, 3, 4, 4, 6, 4])\n",
        "\n",
        "print(f'x1[0] = ', x1[0])\n",
        "\n",
        "print(f'x1[3] = ', x1[3])\n",
        "\n",
        "# indexing은 0번부터 index 하는것을 명심\n",
        "\n"
      ],
      "metadata": {
        "colab": {
          "base_uri": "https://localhost:8080/"
        },
        "id": "i7ps-N3F_tDM",
        "outputId": "2c5b02bb-33de-4920-b2cd-410da32f8931"
      },
      "id": "i7ps-N3F_tDM",
      "execution_count": null,
      "outputs": [
        {
          "output_type": "stream",
          "name": "stdout",
          "text": [
            "x1[0] =  1\n",
            "x1[3] =  4\n"
          ]
        }
      ]
    },
    {
      "cell_type": "markdown",
      "source": [
        "다중 어레이에서 Array indexing 방법\n"
      ],
      "metadata": {
        "id": "OdMZ23ReAIcK"
      },
      "id": "OdMZ23ReAIcK"
    },
    {
      "cell_type": "code",
      "source": [
        "x2 = np.array([[3, 2, 5, 5],[0, 1, 5, 8], [3, 1, 5, 0]]) # 2x2 Array 생성\n",
        "\n",
        "print(x2)\n",
        "print(\"\\n\")\n",
        "print(f'x2[2,3] = ', x2[2,3]) # 3번 row 에서 4번째 column에 접근\n",
        "print(f'x2[2,-1] = ', x2[2,-1]) # 3번 row 에서 4번째 column에 접근\n",
        "print(f'x2[0,0] = ', x2[0,0])\n",
        "\n",
        "# 5번 Line 과 6번 Line은 동일한 element에 접근하는 방법임."
      ],
      "metadata": {
        "colab": {
          "base_uri": "https://localhost:8080/"
        },
        "id": "BR1uy5ySANx1",
        "outputId": "9efe0620-06b5-4754-8179-d68992e67bb8"
      },
      "id": "BR1uy5ySANx1",
      "execution_count": null,
      "outputs": [
        {
          "output_type": "stream",
          "name": "stdout",
          "text": [
            "[[3 2 5 5]\n",
            " [0 1 5 8]\n",
            " [3 1 5 0]]\n",
            "\n",
            "\n",
            "x2[2,3] =  0\n",
            "x2[2,-1] =  0\n",
            "x2[0,0] =  3\n"
          ]
        }
      ]
    },
    {
      "cell_type": "markdown",
      "source": [
        "1.2.2. Array slicing\n",
        "\n",
        "Array slicing은 Array 내에서 특정 Array를 접근하기 위한 방법이다.\n",
        "\n",
        "위의 indexing과 다르게 특정 element에 접근이 아닌 특정 array에 접근하는 방법임.\n",
        "\n",
        "```\n",
        "x[start:stop:step]\n",
        "```\n",
        "\n",
        "`start, stop` 또는 `step`에 대해 아무것도 지정하지 않으면 Numpy는 `start=0, stop=size`(차원) 및 `step=1` 매개변수의 기본값을 사용한다."
      ],
      "metadata": {
        "id": "OAx_XPEV__P8"
      },
      "id": "OAx_XPEV__P8"
    },
    {
      "cell_type": "code",
      "source": [
        "x = np.arange(10) # 0~9 까지 1D array 생성\n",
        "\n",
        "print(f'x = ', x)\n",
        "\n",
        "print(f'x[:5 = ', x[:5])\n",
        "\n",
        "print(f'x[:5] = ', x[5:])\n",
        "\n",
        "print(f'x[4:7] = ', x[4:7])\n",
        "\n",
        "print(f'x[ : : 2] = ', x[ : : 2])\n",
        "\n"
      ],
      "metadata": {
        "colab": {
          "base_uri": "https://localhost:8080/"
        },
        "id": "la6rxfYTZHWU",
        "outputId": "53ba66c4-234f-4a45-fe0e-b1b22e673784"
      },
      "id": "la6rxfYTZHWU",
      "execution_count": null,
      "outputs": [
        {
          "output_type": "stream",
          "name": "stdout",
          "text": [
            "x =  [0 1 2 3 4 5 6 7 8 9]\n",
            "x[:5 =  [0 1 2 3 4]\n",
            "x[:5] =  [5 6 7 8 9]\n",
            "x[4:7] =  [4 5 6]\n",
            "x[ : : 2] =  [0 2 4 6 8]\n"
          ]
        }
      ]
    },
    {
      "cell_type": "markdown",
      "source": [
        "2. Pandas"
      ],
      "metadata": {
        "id": "P3qC9Lq7aCnC"
      },
      "id": "P3qC9Lq7aCnC"
    },
    {
      "cell_type": "markdown",
      "source": [
        "* Pandas는 데이터 분석에 사용되는 매우 인기 있는 Python 라이브러리임.\n",
        "* 데이터를 효율적으로 처리하고 조작하는 기능을 제공하며 Excel 이상의 기능을 포함하고 있음.\n"
      ],
      "metadata": {
        "id": "K9_GrWjSf1X5"
      },
      "id": "K9_GrWjSf1X5"
    },
    {
      "cell_type": "markdown",
      "source": [
        "2.1 read CSV"
      ],
      "metadata": {
        "id": "EznWIq8OgG8e"
      },
      "id": "EznWIq8OgG8e"
    },
    {
      "cell_type": "markdown",
      "source": [
        "* 요즘 회사에서 수집하는 거의 모든 데이터는 Excel과 같은 다른 소프트웨어를 사용하여 스프레드시트에 입력됩니다.\n",
        "* 데이터는 테이블 형식이며 이름 끝에 \".csv\"가 있는 CSV파일에 저장됩니다.\n",
        "\n",
        "* Python에서 CSV 파일을 사용하려면 먼저 해당 파일을 가져와야 합니다.\n",
        "* 다음은 CSV 파일을 가져오는 방법의 예입니다. housing.csv 파일은 캘리포니아 주택 블록에 대한 인구 조사 데이터입니다."
      ],
      "metadata": {
        "id": "iiIilDZ7_ogO"
      },
      "id": "iiIilDZ7_ogO"
    },
    {
      "cell_type": "code",
      "source": [
        "import pandas as pd\n",
        "\n",
        "dataset_url = r'https://www.dropbox.com/s/gkofjsqjnoijpir/housing.csv?dl=1'\n",
        "\n",
        "df = pd.read_csv(dataset_url)\n",
        "\n",
        "print(f'Shape of dataframe = ', df.shape) # 불러온 데이터 프레임의 형식(행,열)로 안내."
      ],
      "metadata": {
        "colab": {
          "base_uri": "https://localhost:8080/"
        },
        "id": "L9ti32cAjtor",
        "outputId": "ae3b53c7-8329-4737-d4d9-543a9f1a2cca"
      },
      "id": "L9ti32cAjtor",
      "execution_count": null,
      "outputs": [
        {
          "output_type": "stream",
          "name": "stdout",
          "text": [
            "Shape of dataframe =  (20640, 10)\n"
          ]
        }
      ]
    },
    {
      "cell_type": "code",
      "source": [
        "# 데이터의 일반 정보를 확인\n",
        "print('\\n', df.info())"
      ],
      "metadata": {
        "colab": {
          "base_uri": "https://localhost:8080/"
        },
        "id": "4eVgdYEYplPN",
        "outputId": "7da11126-bcbc-4fe8-9229-410f4bee6683"
      },
      "id": "4eVgdYEYplPN",
      "execution_count": null,
      "outputs": [
        {
          "output_type": "stream",
          "name": "stdout",
          "text": [
            "<class 'pandas.core.frame.DataFrame'>\n",
            "RangeIndex: 20640 entries, 0 to 20639\n",
            "Data columns (total 10 columns):\n",
            " #   Column              Non-Null Count  Dtype  \n",
            "---  ------              --------------  -----  \n",
            " 0   longitude           20640 non-null  float64\n",
            " 1   latitude            20640 non-null  float64\n",
            " 2   housing_median_age  20640 non-null  float64\n",
            " 3   total_rooms         20640 non-null  float64\n",
            " 4   total_bedrooms      20433 non-null  float64\n",
            " 5   population          20640 non-null  float64\n",
            " 6   households          20640 non-null  float64\n",
            " 7   median_income       20640 non-null  float64\n",
            " 8   median_house_value  20640 non-null  float64\n",
            " 9   ocean_proximity     20640 non-null  object \n",
            "dtypes: float64(9), object(1)\n",
            "memory usage: 1.6+ MB\n",
            "\n",
            " None\n"
          ]
        }
      ]
    },
    {
      "cell_type": "markdown",
      "source": [
        "4번 total_badrooms은 non-null값이 다름을 확인할것"
      ],
      "metadata": {
        "id": "VXTqe6zlM_NH"
      },
      "id": "VXTqe6zlM_NH"
    },
    {
      "cell_type": "code",
      "source": [
        "# 데이터를 간략하게 확인하는 방법\n",
        "\n",
        "#데이터 중 앞 5행을 검색\n",
        "\n",
        "print('\\n\\n', df.head())\n",
        "\n",
        "#행의 갯수는 선택 가능\n",
        "\n",
        "print('\\n\\n', df.head(10))"
      ],
      "metadata": {
        "colab": {
          "base_uri": "https://localhost:8080/"
        },
        "id": "IwB747ZGpvyp",
        "outputId": "99784ef1-b43d-4cbb-b4ed-646fc1f44a4d"
      },
      "id": "IwB747ZGpvyp",
      "execution_count": null,
      "outputs": [
        {
          "output_type": "stream",
          "name": "stdout",
          "text": [
            "\n",
            "\n",
            "    longitude  latitude  housing_median_age  total_rooms  total_bedrooms  \\\n",
            "0    -122.23     37.88                41.0        880.0           129.0   \n",
            "1    -122.22     37.86                21.0       7099.0          1106.0   \n",
            "2    -122.24     37.85                52.0       1467.0           190.0   \n",
            "3    -122.25     37.85                52.0       1274.0           235.0   \n",
            "4    -122.25     37.85                52.0       1627.0           280.0   \n",
            "\n",
            "   population  households  median_income  median_house_value ocean_proximity  \n",
            "0       322.0       126.0         8.3252            452600.0        NEAR BAY  \n",
            "1      2401.0      1138.0         8.3014            358500.0        NEAR BAY  \n",
            "2       496.0       177.0         7.2574            352100.0        NEAR BAY  \n",
            "3       558.0       219.0         5.6431            341300.0        NEAR BAY  \n",
            "4       565.0       259.0         3.8462            342200.0        NEAR BAY  \n",
            "\n",
            "\n",
            "    longitude  latitude  housing_median_age  total_rooms  total_bedrooms  \\\n",
            "0    -122.23     37.88                41.0        880.0           129.0   \n",
            "1    -122.22     37.86                21.0       7099.0          1106.0   \n",
            "2    -122.24     37.85                52.0       1467.0           190.0   \n",
            "3    -122.25     37.85                52.0       1274.0           235.0   \n",
            "4    -122.25     37.85                52.0       1627.0           280.0   \n",
            "5    -122.25     37.85                52.0        919.0           213.0   \n",
            "6    -122.25     37.84                52.0       2535.0           489.0   \n",
            "7    -122.25     37.84                52.0       3104.0           687.0   \n",
            "8    -122.26     37.84                42.0       2555.0           665.0   \n",
            "9    -122.25     37.84                52.0       3549.0           707.0   \n",
            "\n",
            "   population  households  median_income  median_house_value ocean_proximity  \n",
            "0       322.0       126.0         8.3252            452600.0        NEAR BAY  \n",
            "1      2401.0      1138.0         8.3014            358500.0        NEAR BAY  \n",
            "2       496.0       177.0         7.2574            352100.0        NEAR BAY  \n",
            "3       558.0       219.0         5.6431            341300.0        NEAR BAY  \n",
            "4       565.0       259.0         3.8462            342200.0        NEAR BAY  \n",
            "5       413.0       193.0         4.0368            269700.0        NEAR BAY  \n",
            "6      1094.0       514.0         3.6591            299200.0        NEAR BAY  \n",
            "7      1157.0       647.0         3.1200            241400.0        NEAR BAY  \n",
            "8      1206.0       595.0         2.0804            226700.0        NEAR BAY  \n",
            "9      1551.0       714.0         3.6912            261100.0        NEAR BAY  \n"
          ]
        }
      ]
    },
    {
      "cell_type": "code",
      "source": [
        "# 데이터의 파라미터 구성을 확인하기 위해 Column을 확인\n",
        "\n",
        "print(df.columns.values)\n",
        "\n",
        "# Column은 모델이 학습하기 위한 파라미터 임으로 필수로 확인해봐야함."
      ],
      "metadata": {
        "colab": {
          "base_uri": "https://localhost:8080/"
        },
        "id": "EkSYcMc2qExd",
        "outputId": "266eebcb-c77d-43c5-832f-0b628aed9579"
      },
      "id": "EkSYcMc2qExd",
      "execution_count": null,
      "outputs": [
        {
          "output_type": "stream",
          "name": "stdout",
          "text": [
            "['longitude' 'latitude' 'housing_median_age' 'total_rooms'\n",
            " 'total_bedrooms' 'population' 'households' 'median_income'\n",
            " 'median_house_value' 'ocean_proximity']\n"
          ]
        }
      ]
    },
    {
      "cell_type": "markdown",
      "source": [
        "2.2 selecting Columns"
      ],
      "metadata": {
        "id": "lqu0G6vwqr_t"
      },
      "id": "lqu0G6vwqr_t"
    },
    {
      "cell_type": "code",
      "source": [
        "# Column을 선택하기 위해 df 데이터 프레임중 population에 접근\n",
        "\n",
        "new_df = df['population'] # population 컬럼을 new_df로 새로 선언함.\n",
        "print(new_df.head())"
      ],
      "metadata": {
        "colab": {
          "base_uri": "https://localhost:8080/"
        },
        "id": "JS52jn6eqsfq",
        "outputId": "e8cbad87-ee77-4e61-e998-e0e8417ec44d"
      },
      "id": "JS52jn6eqsfq",
      "execution_count": null,
      "outputs": [
        {
          "output_type": "stream",
          "name": "stdout",
          "text": [
            "0     322.0\n",
            "1    2401.0\n",
            "2     496.0\n",
            "3     558.0\n",
            "4     565.0\n",
            "Name: population, dtype: float64\n"
          ]
        }
      ]
    },
    {
      "cell_type": "markdown",
      "source": [
        "2.3 changing column names\n",
        "\n",
        "Column 이름을 변경하거나 CSV 파일에 아직 없는 Column 이름을 추가하려면 Column  목록을 먼저 제공해야 함.\n"
      ],
      "metadata": {
        "id": "6tqTVrgSrRck"
      },
      "id": "6tqTVrgSrRck"
    },
    {
      "cell_type": "code",
      "source": [
        "\n",
        "# 기존 Column 확인\n",
        "print(df.columns.values)\n"
      ],
      "metadata": {
        "colab": {
          "base_uri": "https://localhost:8080/"
        },
        "id": "Xmas2uUBrq_5",
        "outputId": "199695d1-c946-482f-8b15-67868eac722d"
      },
      "id": "Xmas2uUBrq_5",
      "execution_count": null,
      "outputs": [
        {
          "output_type": "stream",
          "name": "stdout",
          "text": [
            "['longitude' 'latitude' 'housing_median_age' 'total_rooms'\n",
            " 'total_bedrooms' 'population' 'households' 'median_income'\n",
            " 'median_house_value' 'ocean_proximity']\n"
          ]
        }
      ]
    },
    {
      "cell_type": "code",
      "source": [
        "# Column 네임 변경\n",
        "df.rename(columns = {'population':'pop', 'longitude':'long'}, inplace=True) # Inplace=True의 경우 해당 df에서 값을 변경할때 작성\n",
        "\n",
        "print(df.columns.values,'\\n')"
      ],
      "metadata": {
        "colab": {
          "base_uri": "https://localhost:8080/"
        },
        "id": "i3J34vEhr9PF",
        "outputId": "ab208c8b-1ed9-40bd-fdd7-7f1bcfd8be64"
      },
      "id": "i3J34vEhr9PF",
      "execution_count": null,
      "outputs": [
        {
          "output_type": "stream",
          "name": "stdout",
          "text": [
            "['long' 'latitude' 'housing_median_age' 'total_rooms' 'total_bedrooms'\n",
            " 'pop' 'households' 'median_income' 'median_house_value' 'ocean_proximity'] \n",
            "\n"
          ]
        }
      ]
    },
    {
      "cell_type": "code",
      "source": [
        "# 기존 Column 으로 원복 (아래 방식으로 네이밍을 변경할 수 있음, 다만 모든 Columns을 적어줘야함)\n",
        "\n",
        "df.columns = [ 'longitude', 'latitude','housing_med_age', 'total_rooms', 'total_bedrooms', 'population', 'households', 'med_income', 'med_house_value' , 'ocean_proximity']\n",
        "\n",
        "print(df.columns.values,'\\n')"
      ],
      "metadata": {
        "colab": {
          "base_uri": "https://localhost:8080/"
        },
        "id": "H3HOsiOksWCW",
        "outputId": "876b6070-b52f-4feb-86a1-0883d0a2bf5a"
      },
      "id": "H3HOsiOksWCW",
      "execution_count": null,
      "outputs": [
        {
          "output_type": "stream",
          "name": "stdout",
          "text": [
            "['longitude' 'latitude' 'housing_med_age' 'total_rooms' 'total_bedrooms'\n",
            " 'population' 'households' 'med_income' 'med_house_value'\n",
            " 'ocean_proximity'] \n",
            "\n"
          ]
        }
      ]
    },
    {
      "cell_type": "markdown",
      "source": [
        "2.4 Row selection\n"
      ],
      "metadata": {
        "id": "NFSZ64GgtLT3"
      },
      "id": "NFSZ64GgtLT3"
    },
    {
      "cell_type": "code",
      "source": [
        "rows_to_select = [0, 2, 5, 8] # 선택할 Row를 선정\n",
        "new_df = df.loc[rows_to_select]\n",
        "print(new_df, '\\n')"
      ],
      "metadata": {
        "colab": {
          "base_uri": "https://localhost:8080/"
        },
        "id": "4n3wcrzWtVqC",
        "outputId": "7f60b442-4dd9-4fd4-cbb6-51fb75493094"
      },
      "id": "4n3wcrzWtVqC",
      "execution_count": null,
      "outputs": [
        {
          "output_type": "stream",
          "name": "stdout",
          "text": [
            "   longitude  latitude  housing_med_age  total_rooms  total_bedrooms  \\\n",
            "0    -122.23     37.88             41.0        880.0           129.0   \n",
            "2    -122.24     37.85             52.0       1467.0           190.0   \n",
            "5    -122.25     37.85             52.0        919.0           213.0   \n",
            "8    -122.26     37.84             42.0       2555.0           665.0   \n",
            "\n",
            "   population  households  med_income  med_house_value ocean_proximity  \n",
            "0       322.0       126.0      8.3252         452600.0        NEAR BAY  \n",
            "2       496.0       177.0      7.2574         352100.0        NEAR BAY  \n",
            "5       413.0       193.0      4.0368         269700.0        NEAR BAY  \n",
            "8      1206.0       595.0      2.0804         226700.0        NEAR BAY   \n",
            "\n"
          ]
        }
      ]
    },
    {
      "cell_type": "code",
      "source": [
        "# Slicing으로도 Row를 선택할 수 있음\n",
        "\n",
        "new_df = df.loc[3:7]\n",
        "print(new_df)"
      ],
      "metadata": {
        "colab": {
          "base_uri": "https://localhost:8080/"
        },
        "id": "hQqMlhfltfIH",
        "outputId": "a6bf2ae7-6c24-4c2a-a22b-9fddb5e9670a"
      },
      "id": "hQqMlhfltfIH",
      "execution_count": null,
      "outputs": [
        {
          "output_type": "stream",
          "name": "stdout",
          "text": [
            "   longitude  latitude  housing_med_age  total_rooms  total_bedrooms  \\\n",
            "3    -122.25     37.85             52.0       1274.0           235.0   \n",
            "4    -122.25     37.85             52.0       1627.0           280.0   \n",
            "5    -122.25     37.85             52.0        919.0           213.0   \n",
            "6    -122.25     37.84             52.0       2535.0           489.0   \n",
            "7    -122.25     37.84             52.0       3104.0           687.0   \n",
            "\n",
            "   population  households  med_income  med_house_value ocean_proximity  \n",
            "3       558.0       219.0      5.6431         341300.0        NEAR BAY  \n",
            "4       565.0       259.0      3.8462         342200.0        NEAR BAY  \n",
            "5       413.0       193.0      4.0368         269700.0        NEAR BAY  \n",
            "6      1094.0       514.0      3.6591         299200.0        NEAR BAY  \n",
            "7      1157.0       647.0      3.1200         241400.0        NEAR BAY  \n"
          ]
        }
      ]
    },
    {
      "cell_type": "markdown",
      "source": [
        "3번 row 처럼 검색할 배열을 선택할 수 있음. 이렇게 하면 4번째 행부터 7번째 행까지 연속된 행, 즉 인덱스가 3 ~ 6인 행을 얻을 수 있습니다.\n",
        "\n",
        " 파이썬에서 행과 열 번호는 0부터 시작한다는 점을 기억할것\n",
        "\n"
      ],
      "metadata": {
        "id": "mFEMZv9Btmn-"
      },
      "id": "mFEMZv9Btmn-"
    },
    {
      "cell_type": "markdown",
      "source": [
        "2.5 Indexing both Columns and rows"
      ],
      "metadata": {
        "id": "4UdOp1trt6Kp"
      },
      "id": "4UdOp1trt6Kp"
    },
    {
      "cell_type": "code",
      "source": [
        "# 접근할 Column 선택\n",
        "col_to_select = ['longitude', 'latitude', 'population']\n",
        "\n",
        "# indexing\n",
        "new_df = df.loc[0:5, col_to_select] # 0~4 번의 Row를 선택하면서 col_to_test에 선언된 3개의 Column도 선택함 선택은 (row, column) 순으로 선언\n",
        "\n",
        "print(new_df.head())"
      ],
      "metadata": {
        "colab": {
          "base_uri": "https://localhost:8080/"
        },
        "id": "XXx0n8FPt5mG",
        "outputId": "2070500c-5cec-458d-ff41-e16828cb95c3"
      },
      "id": "XXx0n8FPt5mG",
      "execution_count": null,
      "outputs": [
        {
          "output_type": "stream",
          "name": "stdout",
          "text": [
            "   longitude  latitude  population\n",
            "0    -122.23     37.88       322.0\n",
            "1    -122.22     37.86      2401.0\n",
            "2    -122.24     37.85       496.0\n",
            "3    -122.25     37.85       558.0\n",
            "4    -122.25     37.85       565.0\n"
          ]
        }
      ]
    },
    {
      "cell_type": "markdown",
      "source": [
        "2.6 Changing value\n",
        "\n",
        "loc 함수를 사용해 row에 접근하고 값을 변경함."
      ],
      "metadata": {
        "id": "YCVzYRoGy8I9"
      },
      "id": "YCVzYRoGy8I9"
    },
    {
      "cell_type": "code",
      "source": [
        "df.loc[0, 'total_rooms'] = 0 # total_rooms에 접근하고 0번 row을 선택하며 값을 0으로 변경\n",
        "\n",
        "print(df.head())"
      ],
      "metadata": {
        "colab": {
          "base_uri": "https://localhost:8080/"
        },
        "id": "EKGvKN8GzEkE",
        "outputId": "eddda532-6db3-461f-b3d0-14194bff4a45"
      },
      "id": "EKGvKN8GzEkE",
      "execution_count": null,
      "outputs": [
        {
          "output_type": "stream",
          "name": "stdout",
          "text": [
            "   longitude  latitude  housing_med_age  total_rooms  total_bedrooms  \\\n",
            "0    -122.23     37.88             41.0          0.0           129.0   \n",
            "1    -122.22     37.86             21.0       7099.0          1106.0   \n",
            "2    -122.24     37.85             52.0       1467.0           190.0   \n",
            "3    -122.25     37.85             52.0       1274.0           235.0   \n",
            "4    -122.25     37.85             52.0       1627.0           280.0   \n",
            "\n",
            "   population  households  med_income  med_house_value ocean_proximity  \n",
            "0       322.0       126.0      8.3252         452600.0        NEAR BAY  \n",
            "1      2401.0      1138.0      8.3014         358500.0        NEAR BAY  \n",
            "2       496.0       177.0      7.2574         352100.0        NEAR BAY  \n",
            "3       558.0       219.0      5.6431         341300.0        NEAR BAY  \n",
            "4       565.0       259.0      3.8462         342200.0        NEAR BAY  \n"
          ]
        }
      ]
    },
    {
      "cell_type": "markdown",
      "source": [
        "3. Machine Learning\n",
        "\n",
        "<center><img src=https://serokell.io/files/zx/zxwju3ha.Machine-learning-vs-deep-learning.jpg width=\"400\"/></center>\n",
        "\n",
        "\n",
        "머신 러닝은 딥 러닝이라는 함께 예측 분석을 위한 데이터 과학에서 광범위하게 사용된다.\n",
        "\n",
        "\n"
      ],
      "metadata": {
        "id": "pyWPfx0p4oMF"
      },
      "id": "pyWPfx0p4oMF"
    },
    {
      "cell_type": "markdown",
      "source": [
        "+ 지도 학습(Supervised Learning)\n",
        "\n",
        "지도 학습에서는 사전에 레이블이 지정된 데이터 세트가 제공됩니다.\n",
        "기계 학습 모델 또는 알고리즘은 데이터세트에서 기본 패턴을 학습하고 특정 하이퍼 매개변수를 사용하여 레이블이 지정되지 않은 새로운 데이터세트에서 일반화합니다. 지도 학습 문제에는 회귀 문제와 분류 문제가 포함됩니다.\n",
        "\n",
        "+ 회귀(Regression)\n",
        "\n",
        "회귀 문제에는 연속 값 출력 예측이 포함됩니다. 이 개념은 이전 장에서 본 것처럼 추론 통계에서 가져왔습니다. 회귀 문제의 몇 가지 일반적인 예는 다음과 같습니다.\n",
        "\n",
        "  1. 집값 예측\n",
        "  2. 댓글의 악성도 예측\n",
        "  3. 주가 예측\n",
        "  4. 회사의 직원 수 예측\n",
        "\n",
        "\n",
        "+ 분류(Classification)\n",
        "\n",
        "분류 문제에는 Catrgorical 결과 예측이 포함됩니다.\n",
        "출력은 두 개의 범주(Binary Classification), 두 개 이상의 범주(Multi class Classification)에서 가져올 수 있습니다. 또한 인스턴스에 대해 둘 이상의 범주를 예측하는 작업이 포함될 수도 있습니다(Multi label classification). 일부 분류 예시는 다음과 같습니다.\n",
        "\n",
        "1. SNS의 감정(긍정적 또는 부정적)을 예측합니다.\n",
        "2. 엑스레이에 폐렴이 포함되어 있는지 여부를 예측합니다.\n",
        "3. 암의 종양을 양성 또는 악성으로 예측합니다.\n",
        "4. 앞으로의 날씨(덥거나 추운)를 예측합니다.\n",
        "\n",
        "\n",
        "<center><img src=https://www.dropbox.com/s/z5ed4gte523ifms/MLDL_ch01_01.png?dl=1><h5>Machine Learning Tree</h5></center>"
      ],
      "metadata": {
        "id": "gFRfDTOs4oG4"
      },
      "id": "gFRfDTOs4oG4"
    },
    {
      "cell_type": "markdown",
      "source": [
        "+ 비지도 학습(Unsupervised learning)\n",
        "\n",
        "비지도 학습에서는 데이터세트에 사전 정의된 label이 지정되지 않은 상태로 제공됩니다. 비지도 학습의 목표는 감독 없이 데이터 세트의 패턴을 학습하는 것입니다. 비지도 학습 문제에는 클러스터링 및 associaction rule mining이 포함됩니다.\n",
        "\n",
        "+ 클러스터링(Clustering)\n",
        "\n",
        "클러스터링은 유사한 데이터 항목을 그룹핑한다.\n",
        "클러스터링 예시에는 다음이 포함됩니다.\n",
        "\n",
        "\n",
        "유사한 속성과 내용을 가진 검색 엔진에서 검색된 신문 기사와 검색 결과를 클러스터링.\n",
        "\n",
        "+ Association rule mining\n",
        "\n",
        "Association rule mining 은 함께 발생하거나 상관되는 특징이나 차원을 찾을 수 있다.\n",
        "\n",
        "장바구니 분석(Market Basket Analysis): 소매점에서 품목 간의 연관 규칙을 발견하는 방법. (기저귀와 맥주 매출의 상관관계)\n",
        "\n",
        "의료 진단: 연관 규칙 마이닝은 증상과 해당 질병 간의 관계를 정의하는 데 도움이 됩니다.\n",
        "\n",
        "<center><img src=https://www.dropbox.com/s/173pzxefezt5775/MLDL_ch01_02.png?dl=1><h5>Machine Learning Tree</h5></center>"
      ],
      "metadata": {
        "id": "QdPOzqY84oBz"
      },
      "id": "QdPOzqY84oBz"
    },
    {
      "cell_type": "markdown",
      "source": [
        "+ Case Study\n",
        "\n",
        "  + tips dataset을 분석해보고 Dataset을 통해 간단한 Regression 모델을 설계해보자.\n",
        "  + 해당 데이터세트의 파라미터는 Total_bill, sex, size, smoker, tip 로 구성되어 있으며 파라미터를 통해 tip을 예측해보자.\n"
      ],
      "metadata": {
        "id": "xBdlQE2uu7uE"
      },
      "id": "xBdlQE2uu7uE"
    },
    {
      "cell_type": "code",
      "source": [
        "import pandas as pd\n",
        "import matplotlib.pyplot as plt\n",
        "\n",
        "\n",
        "url = 'https://raw.githubusercontent.com/mwaskom/seaborn-data/master/tips.csv'\n",
        "df = pd.read_csv(url)\n",
        "df.dropna()\n",
        "df.head()"
      ],
      "metadata": {
        "colab": {
          "base_uri": "https://localhost:8080/",
          "height": 206
        },
        "id": "m97QCb2EvW50",
        "outputId": "82456bac-1e93-4967-d9c9-33a701c866fa"
      },
      "id": "m97QCb2EvW50",
      "execution_count": null,
      "outputs": [
        {
          "output_type": "execute_result",
          "data": {
            "text/plain": [
              "   total_bill   tip     sex smoker  day    time  size\n",
              "0       16.99  1.01  Female     No  Sun  Dinner     2\n",
              "1       10.34  1.66    Male     No  Sun  Dinner     3\n",
              "2       21.01  3.50    Male     No  Sun  Dinner     3\n",
              "3       23.68  3.31    Male     No  Sun  Dinner     2\n",
              "4       24.59  3.61  Female     No  Sun  Dinner     4"
            ],
            "text/html": [
              "\n",
              "  <div id=\"df-61015e30-05bb-4e20-9a9d-6cf492cd48c7\" class=\"colab-df-container\">\n",
              "    <div>\n",
              "<style scoped>\n",
              "    .dataframe tbody tr th:only-of-type {\n",
              "        vertical-align: middle;\n",
              "    }\n",
              "\n",
              "    .dataframe tbody tr th {\n",
              "        vertical-align: top;\n",
              "    }\n",
              "\n",
              "    .dataframe thead th {\n",
              "        text-align: right;\n",
              "    }\n",
              "</style>\n",
              "<table border=\"1\" class=\"dataframe\">\n",
              "  <thead>\n",
              "    <tr style=\"text-align: right;\">\n",
              "      <th></th>\n",
              "      <th>total_bill</th>\n",
              "      <th>tip</th>\n",
              "      <th>sex</th>\n",
              "      <th>smoker</th>\n",
              "      <th>day</th>\n",
              "      <th>time</th>\n",
              "      <th>size</th>\n",
              "    </tr>\n",
              "  </thead>\n",
              "  <tbody>\n",
              "    <tr>\n",
              "      <th>0</th>\n",
              "      <td>16.99</td>\n",
              "      <td>1.01</td>\n",
              "      <td>Female</td>\n",
              "      <td>No</td>\n",
              "      <td>Sun</td>\n",
              "      <td>Dinner</td>\n",
              "      <td>2</td>\n",
              "    </tr>\n",
              "    <tr>\n",
              "      <th>1</th>\n",
              "      <td>10.34</td>\n",
              "      <td>1.66</td>\n",
              "      <td>Male</td>\n",
              "      <td>No</td>\n",
              "      <td>Sun</td>\n",
              "      <td>Dinner</td>\n",
              "      <td>3</td>\n",
              "    </tr>\n",
              "    <tr>\n",
              "      <th>2</th>\n",
              "      <td>21.01</td>\n",
              "      <td>3.50</td>\n",
              "      <td>Male</td>\n",
              "      <td>No</td>\n",
              "      <td>Sun</td>\n",
              "      <td>Dinner</td>\n",
              "      <td>3</td>\n",
              "    </tr>\n",
              "    <tr>\n",
              "      <th>3</th>\n",
              "      <td>23.68</td>\n",
              "      <td>3.31</td>\n",
              "      <td>Male</td>\n",
              "      <td>No</td>\n",
              "      <td>Sun</td>\n",
              "      <td>Dinner</td>\n",
              "      <td>2</td>\n",
              "    </tr>\n",
              "    <tr>\n",
              "      <th>4</th>\n",
              "      <td>24.59</td>\n",
              "      <td>3.61</td>\n",
              "      <td>Female</td>\n",
              "      <td>No</td>\n",
              "      <td>Sun</td>\n",
              "      <td>Dinner</td>\n",
              "      <td>4</td>\n",
              "    </tr>\n",
              "  </tbody>\n",
              "</table>\n",
              "</div>\n",
              "    <div class=\"colab-df-buttons\">\n",
              "\n",
              "  <div class=\"colab-df-container\">\n",
              "    <button class=\"colab-df-convert\" onclick=\"convertToInteractive('df-61015e30-05bb-4e20-9a9d-6cf492cd48c7')\"\n",
              "            title=\"Convert this dataframe to an interactive table.\"\n",
              "            style=\"display:none;\">\n",
              "\n",
              "  <svg xmlns=\"http://www.w3.org/2000/svg\" height=\"24px\" viewBox=\"0 -960 960 960\">\n",
              "    <path d=\"M120-120v-720h720v720H120Zm60-500h600v-160H180v160Zm220 220h160v-160H400v160Zm0 220h160v-160H400v160ZM180-400h160v-160H180v160Zm440 0h160v-160H620v160ZM180-180h160v-160H180v160Zm440 0h160v-160H620v160Z\"/>\n",
              "  </svg>\n",
              "    </button>\n",
              "\n",
              "  <style>\n",
              "    .colab-df-container {\n",
              "      display:flex;\n",
              "      gap: 12px;\n",
              "    }\n",
              "\n",
              "    .colab-df-convert {\n",
              "      background-color: #E8F0FE;\n",
              "      border: none;\n",
              "      border-radius: 50%;\n",
              "      cursor: pointer;\n",
              "      display: none;\n",
              "      fill: #1967D2;\n",
              "      height: 32px;\n",
              "      padding: 0 0 0 0;\n",
              "      width: 32px;\n",
              "    }\n",
              "\n",
              "    .colab-df-convert:hover {\n",
              "      background-color: #E2EBFA;\n",
              "      box-shadow: 0px 1px 2px rgba(60, 64, 67, 0.3), 0px 1px 3px 1px rgba(60, 64, 67, 0.15);\n",
              "      fill: #174EA6;\n",
              "    }\n",
              "\n",
              "    .colab-df-buttons div {\n",
              "      margin-bottom: 4px;\n",
              "    }\n",
              "\n",
              "    [theme=dark] .colab-df-convert {\n",
              "      background-color: #3B4455;\n",
              "      fill: #D2E3FC;\n",
              "    }\n",
              "\n",
              "    [theme=dark] .colab-df-convert:hover {\n",
              "      background-color: #434B5C;\n",
              "      box-shadow: 0px 1px 3px 1px rgba(0, 0, 0, 0.15);\n",
              "      filter: drop-shadow(0px 1px 2px rgba(0, 0, 0, 0.3));\n",
              "      fill: #FFFFFF;\n",
              "    }\n",
              "  </style>\n",
              "\n",
              "    <script>\n",
              "      const buttonEl =\n",
              "        document.querySelector('#df-61015e30-05bb-4e20-9a9d-6cf492cd48c7 button.colab-df-convert');\n",
              "      buttonEl.style.display =\n",
              "        google.colab.kernel.accessAllowed ? 'block' : 'none';\n",
              "\n",
              "      async function convertToInteractive(key) {\n",
              "        const element = document.querySelector('#df-61015e30-05bb-4e20-9a9d-6cf492cd48c7');\n",
              "        const dataTable =\n",
              "          await google.colab.kernel.invokeFunction('convertToInteractive',\n",
              "                                                    [key], {});\n",
              "        if (!dataTable) return;\n",
              "\n",
              "        const docLinkHtml = 'Like what you see? Visit the ' +\n",
              "          '<a target=\"_blank\" href=https://colab.research.google.com/notebooks/data_table.ipynb>data table notebook</a>'\n",
              "          + ' to learn more about interactive tables.';\n",
              "        element.innerHTML = '';\n",
              "        dataTable['output_type'] = 'display_data';\n",
              "        await google.colab.output.renderOutput(dataTable, element);\n",
              "        const docLink = document.createElement('div');\n",
              "        docLink.innerHTML = docLinkHtml;\n",
              "        element.appendChild(docLink);\n",
              "      }\n",
              "    </script>\n",
              "  </div>\n",
              "\n",
              "\n",
              "<div id=\"df-940201af-a1bd-4643-879e-092f856158fb\">\n",
              "  <button class=\"colab-df-quickchart\" onclick=\"quickchart('df-940201af-a1bd-4643-879e-092f856158fb')\"\n",
              "            title=\"Suggest charts\"\n",
              "            style=\"display:none;\">\n",
              "\n",
              "<svg xmlns=\"http://www.w3.org/2000/svg\" height=\"24px\"viewBox=\"0 0 24 24\"\n",
              "     width=\"24px\">\n",
              "    <g>\n",
              "        <path d=\"M19 3H5c-1.1 0-2 .9-2 2v14c0 1.1.9 2 2 2h14c1.1 0 2-.9 2-2V5c0-1.1-.9-2-2-2zM9 17H7v-7h2v7zm4 0h-2V7h2v10zm4 0h-2v-4h2v4z\"/>\n",
              "    </g>\n",
              "</svg>\n",
              "  </button>\n",
              "\n",
              "<style>\n",
              "  .colab-df-quickchart {\n",
              "      --bg-color: #E8F0FE;\n",
              "      --fill-color: #1967D2;\n",
              "      --hover-bg-color: #E2EBFA;\n",
              "      --hover-fill-color: #174EA6;\n",
              "      --disabled-fill-color: #AAA;\n",
              "      --disabled-bg-color: #DDD;\n",
              "  }\n",
              "\n",
              "  [theme=dark] .colab-df-quickchart {\n",
              "      --bg-color: #3B4455;\n",
              "      --fill-color: #D2E3FC;\n",
              "      --hover-bg-color: #434B5C;\n",
              "      --hover-fill-color: #FFFFFF;\n",
              "      --disabled-bg-color: #3B4455;\n",
              "      --disabled-fill-color: #666;\n",
              "  }\n",
              "\n",
              "  .colab-df-quickchart {\n",
              "    background-color: var(--bg-color);\n",
              "    border: none;\n",
              "    border-radius: 50%;\n",
              "    cursor: pointer;\n",
              "    display: none;\n",
              "    fill: var(--fill-color);\n",
              "    height: 32px;\n",
              "    padding: 0;\n",
              "    width: 32px;\n",
              "  }\n",
              "\n",
              "  .colab-df-quickchart:hover {\n",
              "    background-color: var(--hover-bg-color);\n",
              "    box-shadow: 0 1px 2px rgba(60, 64, 67, 0.3), 0 1px 3px 1px rgba(60, 64, 67, 0.15);\n",
              "    fill: var(--button-hover-fill-color);\n",
              "  }\n",
              "\n",
              "  .colab-df-quickchart-complete:disabled,\n",
              "  .colab-df-quickchart-complete:disabled:hover {\n",
              "    background-color: var(--disabled-bg-color);\n",
              "    fill: var(--disabled-fill-color);\n",
              "    box-shadow: none;\n",
              "  }\n",
              "\n",
              "  .colab-df-spinner {\n",
              "    border: 2px solid var(--fill-color);\n",
              "    border-color: transparent;\n",
              "    border-bottom-color: var(--fill-color);\n",
              "    animation:\n",
              "      spin 1s steps(1) infinite;\n",
              "  }\n",
              "\n",
              "  @keyframes spin {\n",
              "    0% {\n",
              "      border-color: transparent;\n",
              "      border-bottom-color: var(--fill-color);\n",
              "      border-left-color: var(--fill-color);\n",
              "    }\n",
              "    20% {\n",
              "      border-color: transparent;\n",
              "      border-left-color: var(--fill-color);\n",
              "      border-top-color: var(--fill-color);\n",
              "    }\n",
              "    30% {\n",
              "      border-color: transparent;\n",
              "      border-left-color: var(--fill-color);\n",
              "      border-top-color: var(--fill-color);\n",
              "      border-right-color: var(--fill-color);\n",
              "    }\n",
              "    40% {\n",
              "      border-color: transparent;\n",
              "      border-right-color: var(--fill-color);\n",
              "      border-top-color: var(--fill-color);\n",
              "    }\n",
              "    60% {\n",
              "      border-color: transparent;\n",
              "      border-right-color: var(--fill-color);\n",
              "    }\n",
              "    80% {\n",
              "      border-color: transparent;\n",
              "      border-right-color: var(--fill-color);\n",
              "      border-bottom-color: var(--fill-color);\n",
              "    }\n",
              "    90% {\n",
              "      border-color: transparent;\n",
              "      border-bottom-color: var(--fill-color);\n",
              "    }\n",
              "  }\n",
              "</style>\n",
              "\n",
              "  <script>\n",
              "    async function quickchart(key) {\n",
              "      const quickchartButtonEl =\n",
              "        document.querySelector('#' + key + ' button');\n",
              "      quickchartButtonEl.disabled = true;  // To prevent multiple clicks.\n",
              "      quickchartButtonEl.classList.add('colab-df-spinner');\n",
              "      try {\n",
              "        const charts = await google.colab.kernel.invokeFunction(\n",
              "            'suggestCharts', [key], {});\n",
              "      } catch (error) {\n",
              "        console.error('Error during call to suggestCharts:', error);\n",
              "      }\n",
              "      quickchartButtonEl.classList.remove('colab-df-spinner');\n",
              "      quickchartButtonEl.classList.add('colab-df-quickchart-complete');\n",
              "    }\n",
              "    (() => {\n",
              "      let quickchartButtonEl =\n",
              "        document.querySelector('#df-940201af-a1bd-4643-879e-092f856158fb button');\n",
              "      quickchartButtonEl.style.display =\n",
              "        google.colab.kernel.accessAllowed ? 'block' : 'none';\n",
              "    })();\n",
              "  </script>\n",
              "</div>\n",
              "\n",
              "    </div>\n",
              "  </div>\n"
            ],
            "application/vnd.google.colaboratory.intrinsic+json": {
              "type": "dataframe",
              "variable_name": "df",
              "summary": "{\n  \"name\": \"df\",\n  \"rows\": 244,\n  \"fields\": [\n    {\n      \"column\": \"total_bill\",\n      \"properties\": {\n        \"dtype\": \"number\",\n        \"std\": 8.902411954856856,\n        \"min\": 3.07,\n        \"max\": 50.81,\n        \"num_unique_values\": 229,\n        \"samples\": [\n          22.12,\n          20.23,\n          14.78\n        ],\n        \"semantic_type\": \"\",\n        \"description\": \"\"\n      }\n    },\n    {\n      \"column\": \"tip\",\n      \"properties\": {\n        \"dtype\": \"number\",\n        \"std\": 1.3836381890011826,\n        \"min\": 1.0,\n        \"max\": 10.0,\n        \"num_unique_values\": 123,\n        \"samples\": [\n          3.35,\n          1.5,\n          6.73\n        ],\n        \"semantic_type\": \"\",\n        \"description\": \"\"\n      }\n    },\n    {\n      \"column\": \"sex\",\n      \"properties\": {\n        \"dtype\": \"category\",\n        \"num_unique_values\": 2,\n        \"samples\": [\n          \"Male\",\n          \"Female\"\n        ],\n        \"semantic_type\": \"\",\n        \"description\": \"\"\n      }\n    },\n    {\n      \"column\": \"smoker\",\n      \"properties\": {\n        \"dtype\": \"category\",\n        \"num_unique_values\": 2,\n        \"samples\": [\n          \"Yes\",\n          \"No\"\n        ],\n        \"semantic_type\": \"\",\n        \"description\": \"\"\n      }\n    },\n    {\n      \"column\": \"day\",\n      \"properties\": {\n        \"dtype\": \"category\",\n        \"num_unique_values\": 4,\n        \"samples\": [\n          \"Sat\",\n          \"Fri\"\n        ],\n        \"semantic_type\": \"\",\n        \"description\": \"\"\n      }\n    },\n    {\n      \"column\": \"time\",\n      \"properties\": {\n        \"dtype\": \"category\",\n        \"num_unique_values\": 2,\n        \"samples\": [\n          \"Lunch\",\n          \"Dinner\"\n        ],\n        \"semantic_type\": \"\",\n        \"description\": \"\"\n      }\n    },\n    {\n      \"column\": \"size\",\n      \"properties\": {\n        \"dtype\": \"number\",\n        \"std\": 0,\n        \"min\": 1,\n        \"max\": 6,\n        \"num_unique_values\": 6,\n        \"samples\": [\n          2,\n          3\n        ],\n        \"semantic_type\": \"\",\n        \"description\": \"\"\n      }\n    }\n  ]\n}"
            }
          },
          "metadata": {},
          "execution_count": 20
        }
      ]
    },
    {
      "cell_type": "code",
      "source": [
        "df.groupby('size')['tip'].mean()"
      ],
      "metadata": {
        "colab": {
          "base_uri": "https://localhost:8080/",
          "height": 304
        },
        "id": "gh0hAHU0Ut15",
        "outputId": "5ce6d869-e5d1-4b05-8d15-9c4e02f32ce7"
      },
      "id": "gh0hAHU0Ut15",
      "execution_count": null,
      "outputs": [
        {
          "output_type": "execute_result",
          "data": {
            "text/plain": [
              "size\n",
              "1    1.437500\n",
              "2    2.582308\n",
              "3    3.393158\n",
              "4    4.135405\n",
              "5    4.028000\n",
              "6    5.225000\n",
              "Name: tip, dtype: float64"
            ],
            "text/html": [
              "<div>\n",
              "<style scoped>\n",
              "    .dataframe tbody tr th:only-of-type {\n",
              "        vertical-align: middle;\n",
              "    }\n",
              "\n",
              "    .dataframe tbody tr th {\n",
              "        vertical-align: top;\n",
              "    }\n",
              "\n",
              "    .dataframe thead th {\n",
              "        text-align: right;\n",
              "    }\n",
              "</style>\n",
              "<table border=\"1\" class=\"dataframe\">\n",
              "  <thead>\n",
              "    <tr style=\"text-align: right;\">\n",
              "      <th></th>\n",
              "      <th>tip</th>\n",
              "    </tr>\n",
              "    <tr>\n",
              "      <th>size</th>\n",
              "      <th></th>\n",
              "    </tr>\n",
              "  </thead>\n",
              "  <tbody>\n",
              "    <tr>\n",
              "      <th>1</th>\n",
              "      <td>1.437500</td>\n",
              "    </tr>\n",
              "    <tr>\n",
              "      <th>2</th>\n",
              "      <td>2.582308</td>\n",
              "    </tr>\n",
              "    <tr>\n",
              "      <th>3</th>\n",
              "      <td>3.393158</td>\n",
              "    </tr>\n",
              "    <tr>\n",
              "      <th>4</th>\n",
              "      <td>4.135405</td>\n",
              "    </tr>\n",
              "    <tr>\n",
              "      <th>5</th>\n",
              "      <td>4.028000</td>\n",
              "    </tr>\n",
              "    <tr>\n",
              "      <th>6</th>\n",
              "      <td>5.225000</td>\n",
              "    </tr>\n",
              "  </tbody>\n",
              "</table>\n",
              "</div><br><label><b>dtype:</b> float64</label>"
            ]
          },
          "metadata": {},
          "execution_count": 21
        }
      ]
    },
    {
      "cell_type": "markdown",
      "source": [
        "- 데이터의 분포를 가장 쉽게 확인해보는 방법은 데이터의 평균을 확인해보면 된다.\n",
        "- size(인원 수) 별 tip의 평균을 확인해보면 인원 수 가 증가할 수록 평균 tip값이 증가한것을 확인 할 수 있지만 size 5의 tip 값이 size 4 보다 적은것을 알 수 있다.\n",
        "- 다른 방식으로 데이터 분포를 확인해 실제 size 5의 tip이 size 4 보다 작은지 확인해보자.\n",
        "\n",
        "- 먼저 데이터를 확인해보기 위해 bar plot을 진행해보면 ,"
      ],
      "metadata": {
        "id": "EFAFRJ-MveUW"
      },
      "id": "EFAFRJ-MveUW"
    },
    {
      "cell_type": "code",
      "source": [
        "df.boxplot(by='size', column=['tip'])\n",
        "plt.xlabel('size')\n",
        "plt.ylabel('tip')\n",
        "plt.show()"
      ],
      "metadata": {
        "colab": {
          "base_uri": "https://localhost:8080/",
          "height": 478
        },
        "id": "pj_STXf-vrFg",
        "outputId": "40e2feea-71e9-4a8b-b349-76337fbccaf7"
      },
      "id": "pj_STXf-vrFg",
      "execution_count": null,
      "outputs": [
        {
          "output_type": "display_data",
          "data": {
            "text/plain": [
              "<Figure size 640x480 with 1 Axes>"
            ],
            "image/png": "[encoded data removed]"
          },
          "metadata": {}
        }
      ]
    },
    {
      "cell_type": "markdown",
      "source": [
        "+ 위의 plot 이미지를 통해 사람이 많을수록 Tip이 증가하는것을 알 수 있다.\n",
        "+ o 는 Outlier를 뜻함\n",
        "+ 상단 가로 선은 Maximum 값을 뜻함\n",
        "+ 초록색 가로선은 Median 값을 뜻함\n",
        "+ 하단 가로선은 Minimum 값을 뜻함.\n",
        "+ 네모 박스는 중앙값을 기준으로 상하위 25% 지점의 데이터를 표시함. 즉, 네모 박스는 전체데이터중 25% ~ 75%의 값의 범위를 보여줌\n",
        "\n",
        "+ 해석 : Median 값은 중위값을 뜻하며 데이터 분포에서 가운데 있는 값을 뜻한다. box plot을 직관적으로 보자면 median값을 기준으로 size(인원 수) 4인보단 5인이 더 tip을 많이 준것을 볼 수 있다. 하지만 size 4에서 Tip을 8 이상을 준 케이스가 존재하며 이로 인해 평균이 증가한것을 알수있음.\n",
        "\n",
        "+ 이를 평균의 오류(함정)라하며 데이터를 분석할때 다각도로 검토해야함을 뜻한다.\n",
        "\n"
      ],
      "metadata": {
        "id": "2AxiF-vvvx2a"
      },
      "id": "2AxiF-vvvx2a"
    },
    {
      "cell_type": "code",
      "source": [
        "# full code\n",
        "\n",
        "import pandas as pd\n",
        "from sklearn import linear_model\n",
        "from sklearn.metrics import mean_squared_error\n",
        "from sklearn.model_selection import train_test_split\n",
        "\n",
        "url = 'https://raw.githubusercontent.com/mwaskom/seaborn-data/master/tips.csv'\n",
        "dataset = pd.read_csv(url)\n",
        "\n",
        "X = dataset[[\"total_bill\"]]\n",
        "y = dataset[[\"tip\"]]\n",
        "\n",
        "X_train, X_test, y_train, y_test = train_test_split(X, y, random_state=0, train_size=0.7)\n",
        "\n",
        "reg = linear_model.LinearRegression()\n",
        "reg.fit(X_train, y_train)\n",
        "y_pred = reg.predict(X_test)\n",
        "\n",
        "print(\"The MSE on test set is {0:.4f}\".format(mean_squared_error(y_test, y_pred)))"
      ],
      "metadata": {
        "colab": {
          "base_uri": "https://localhost:8080/"
        },
        "id": "kvdJVZmFYUOl",
        "outputId": "72624c1b-6c22-4a7e-d6be-a655511f9929"
      },
      "id": "kvdJVZmFYUOl",
      "execution_count": null,
      "outputs": [
        {
          "output_type": "stream",
          "name": "stdout",
          "text": [
            "The MSE on test set is 0.8712\n"
          ]
        }
      ]
    },
    {
      "cell_type": "markdown",
      "source": [
        "+ Deep learning vs Machine learning\n",
        "\n",
        "머신러닝의 동작을 보면 지금의 신경망이 동작하는 것을 대부분 할수 있는데 왜 딥러닝을 쓸까요?\n",
        "\n",
        "그 이유는 데이터량이 많을 수록 딥러닝이 머신러닝의 성능을 압도하기 때문입니다.\n",
        "<center><img src=https://deeplearning.lipingyang.org/wp-content/uploads/2017/01/img_5883c5cf48f17.png width=400></center>\n"
      ],
      "metadata": {
        "id": "-te7hdfV4n8z"
      },
      "id": "-te7hdfV4n8z"
    },
    {
      "cell_type": "markdown",
      "source": [
        "#데이터의 종류#\n",
        "\n",
        "+ Training dataset\n",
        "\n",
        "  + 머신러닝에서 모델이 학습되는 원본 데이터(레이블(정답값)) 포함된 데이터세트를 Training  데이터라 한다.\n",
        "\n",
        "+ Test dataset\n",
        "\n",
        "  + 모델이 평가되는 보이지 않는 데이터를 Test dataset이라 한다.\n",
        "\n",
        "+ Validation dataset\n",
        "\n",
        "  + Training dataset과 함께 사용되는 dataset으로 모델의 성능을 향상시켜주는 dataset.\n",
        "\n",
        "\n",
        "\n",
        "+ Categorical dataset and Numerical dataset\n",
        "\n",
        "  + Numerical dataset은 Columns, rows에 Numerical feature(실수)가 포함되어 있다.\n",
        "    + 높이, 가격등의 숫자 정보\n",
        "\n",
        "  + Categorical dataset은 Columns, rows에 categorical feature가 포함되어 있다.\n",
        "    + 남자 여자와 같은 성별\n",
        "\n",
        "\n",
        "※ Categorical Dataset은 숫자형으로 데이터를 변경해 줘야함을 명심."
      ],
      "metadata": {
        "id": "oduXhxSk4n3n"
      },
      "id": "oduXhxSk4n3n"
    },
    {
      "cell_type": "markdown",
      "source": [
        "4. Deep Learning"
      ],
      "metadata": {
        "id": "2BP43pC2E06O"
      },
      "id": "2BP43pC2E06O"
    },
    {
      "cell_type": "markdown",
      "source": [
        "\n",
        "+ What is difference between ML and DL\n",
        "\n",
        "<center><img src=https://www.dropbox.com/s/qu4qd7rtry5odhy/Figure_02_01.PNG?dl=1><h5>ML 과 DL flow 차이, ML은 Feature extranction 부분과 ML Algorithm이 포함되어있고 DL은 Algorithm만 포함되어있음. </h5></center>\n"
      ],
      "metadata": {
        "id": "B91mVPpP4nyi"
      },
      "id": "B91mVPpP4nyi"
    },
    {
      "cell_type": "markdown",
      "source": [
        "+ DL의 가장 기본적 요소인 퍼셉트론을 시작으로 뉴런이 Hidden Layer에 포함되어 있는 Multi Layer Perceptron으로 설명을 진행함.\n",
        "+ 신경망의 훈련 과정은 Feed Forward, Calculating Error, Error optimization순으로 진행됨."
      ],
      "metadata": {
        "id": "jeUQptKp4nrf"
      },
      "id": "jeUQptKp4nrf"
    },
    {
      "cell_type": "markdown",
      "source": [
        "+ 가장 기본적인 MLP 구조는 아래와 같다\n",
        "\n",
        "<center><img src=https://www.dropbox.com/s/mj3mib4fty5ikoz/Figure_02_02.PNG?dl=1></center>"
      ],
      "metadata": {
        "id": "HJ44LGTsiGmo"
      },
      "id": "HJ44LGTsiGmo"
    },
    {
      "cell_type": "markdown",
      "source": [
        "+ ANN은 Input데이터를 계산하고 출력을 예측하기 위해 뉴런이 Layer 구조로 구성되어 있음.\n",
        "+ 이 구조를 Multi Layer Perceptron(MLP)라 부르며 MLP와 ANN이라는 두 용어를 혼용하여 사용함.\n",
        "+ MLP 그림에서 각 노드를 뉴런이라고 한다. MLP 네트워크의 기본 구성 요소인 퍼셉트론이 어떻게 작동하는지 이해하고 여러 개의 퍼셉트론이 함께 작동하는지를 확인한다.  \n",
        "\n",
        "\n",
        "---\n",
        "\n",
        "+ 가장 단순한 신경망은 단일 뉴런으로 구성된 퍼셉트론임.\n",
        "+ 개념적으로 퍼셉트론은 생물학적 뉴런과 유사한 방식으로 작동함.\n",
        "+ 생물학적 뉴런은 수상 돌기에서 전기 신호를 수신하고, 전기 신호를 다양한 양으로 변조한 다음 입력 신호의 총 강도가 특정 임계값을 초과할 때만 시냅스를 통해 출력 신호를 발산.\n",
        "+ 출력은 다른 뉴런에 공급되는 등의 과정을 거칩니다.\n",
        "\n",
        "+ 생물학적 뉴런을 모델링하기 위해 인공 뉴런은 입력 신호의 총 세기를 나타내기 위해 입력의 가중 합을 계산하고, 그 결과에 Step fucntion을 적용하여 신호가 임계값을 초과하면 출력 1을, 임계값을 초과하지 않으면 0을 도출하는 기능을 수행함.\n",
        "\n",
        "<center><img src=https://www.dropbox.com/s/33hca7ag60jxv4e/Figure_02_03.PNG?dl=1></center>"
      ],
      "metadata": {
        "id": "4TbKWJ_74nfa"
      },
      "id": "4TbKWJ_74nfa"
    },
    {
      "cell_type": "markdown",
      "source": [
        "+ 인공 뉴런에 대해 디테일하게 보자면\n",
        "\n",
        "<center><img src=https://www.dropbox.com/s/qz1b8gkr6ast2bt/Figure_02_04.PNG?dl=1></center>\n",
        "\n",
        "\n",
        "+ input은 앞단의 뉴런에서 오는 신호들 이며 Weight는 노드의 세기를 결정한다.\n",
        "\n",
        "+ 노드와 가중치의 곱을 합으로 하고 Activation function을 통해 output을 도출\n",
        "+ output Z :\n",
        "\n",
        "$$z = \\sum x_i \\cdot w_i + b (\\text{bias})$$\n",
        "$$z = x_1 \\cdot w_1 + x_2 \\cdot w_2 + x_3 \\cdot w_3 + \\cdots + x_n \\cdot w_n + b$$\n",
        "\n",
        "+ using python :\n",
        "```\n",
        "z = np.dot(w.T, X) + b\n",
        "```\n",
        "\n",
        "+ 여기서 numpy를 사용해야할 이유가 생김. input의 전치행렬과 weight의 내적곱을 진행."
      ],
      "metadata": {
        "id": "kBFiqrWt4nSo"
      },
      "id": "kBFiqrWt4nSo"
    },
    {
      "cell_type": "markdown",
      "source": [
        "+ Bias가 추가되는 이유\n",
        "\n",
        "예를들어 별과 원을 구분하는 하나의 직선을 그리고 그 직선을 mx + b 라고 정의할때\n",
        "\n",
        "<center><img src=https://www.dropbox.com/s/6irpcjavzytgzsy/Figure_02_equation_straight_line.PNG?dl=1></center>\n",
        "\n",
        "직선의 함수는 y=mx+b 라 표시할수 있는데 여기서 b가 없을경우 선은 (0,0)을 무조건 통과하는 직선이 그려져야 하며 그럴 경우 별에서 원을 분리할 수 없기 때문에 b는 필수적으로 필요함.\n",
        "\n",
        "m을 input data, x를 weight, b 를 bias라 할때 신경망이 학습한다는것은 원과 별을 구분짓는 최적의 선을 그리기 위해 x와 b를 찾는것을 뜻한다.\n",
        "\n",
        "\n"
      ],
      "metadata": {
        "id": "n2LSSoQI6vFU"
      },
      "id": "n2LSSoQI6vFU"
    },
    {
      "cell_type": "markdown",
      "source": [
        "더 많은 원과 별이 있다고 가정해보면 아래와 같이 선을 그릴 수 있음.\n",
        "\n",
        "<center><img src=https://www.dropbox.com/s/v5dugwazowr83wh/Figure_02_07.PNG?dl=1></center>\n",
        "\n",
        "\n",
        "여기서 x 부분에 3개의 별이 포함되어 있다.\n",
        "\n",
        "우리는 별 3개를 위해 선을 다시 그리는게 좋을까 아니면 그냥 두는게 좋을까?\n",
        "\n",
        "\n",
        "\n"
      ],
      "metadata": {
        "id": "VEHQgQ1iZeL3"
      },
      "id": "VEHQgQ1iZeL3"
    },
    {
      "cell_type": "markdown",
      "source": [
        "<center><img src=https://www.dropbox.com/s/to6ndf71wf5zuza/HOnCV_wTF2_Ch01_16.png?dl=1>\n",
        "    </center>"
      ],
      "metadata": {
        "id": "uqAnOk8qbQgb"
      },
      "id": "uqAnOk8qbQgb"
    },
    {
      "cell_type": "markdown",
      "source": [
        "어느정도 적당한 data를 구분하는 선을 그리는게 가장 좋음.(Fitting)\n",
        "\n",
        "구분하지 못하는 선을 그리는 경우를 Under Fitting이라하며 너무 타이트하게 데이터를 구분하면 Over fitting이라고 명칭함.\n",
        "\n",
        "이유 : 우리가 모델을 설계할때 가장 중요하게 생각해야하는것은 데이터를 잘 설명하는것도 중요하지만 General Purpose 한 모델을 만드는게 가장 중요함.\n",
        "\n",
        "현재 데이터를 잘 구분한다는건 조금이라도 다른 데이터가 들어올 경우 모델이 전혀 다른 동작을 한다는걸 뜻함.\n",
        "\n"
      ],
      "metadata": {
        "id": "-dJW3hy-bWK4"
      },
      "id": "-dJW3hy-bWK4"
    },
    {
      "cell_type": "markdown",
      "source": [
        "앞에서 우리는 원과 별을 구분하는 한 선을 그렸고 이 선은 하나의 Perceptron이 만듬을 확인함.\n",
        "\n",
        "\n",
        "그렇다면 Perceptron이 여러개가 있다면 어떻게 될까?\n",
        "\n",
        "<center><img src=https://www.dropbox.com/s/orjxrlm49l6f43q/Figure_02_08.PNG?dl=1></center>\n",
        "\n",
        "Perceptron이 하나 추가되면 원과 별을 구분하는 새로운 선을 만듬을 확인할 수 있음.\n",
        "\n",
        "Perceptron이 두개 이상이 되었음으로 우리는 이 모델을 Multi Layer Perceptron(MLP)라 부를수 있음.\n",
        "\n",
        "\n",
        "\n"
      ],
      "metadata": {
        "id": "hUudFBtwbWFU"
      },
      "id": "hUudFBtwbWFU"
    },
    {
      "cell_type": "markdown",
      "source": [
        "\n",
        "여기서 우리는 데이터가 Linear data인지 Non-Linear data인지 알아야함.\n",
        "\n",
        "\n",
        "+ Linear datasets - 데이터를 선 하나로 분할 가능함.\n",
        "+ Non-Linear dataset - 선 하나로 데이터를 분할할 수 없음. 데이터를 분할하기 위해서  두 개 이상의 선이 필요함.\n",
        "\n",
        "\n",
        "\n",
        "\n",
        "<center><img src=https://www.dropbox.com/s/af7k7za1g96fze6/Figure_02_linear_unlinear_data.PNG?dl=1><h5>linear data 와 nonlinear data의 예</h5></center>\n"
      ],
      "metadata": {
        "id": "bMNuFBEmbV_x"
      },
      "id": "bMNuFBEmbV_x"
    },
    {
      "cell_type": "markdown",
      "source": [
        "돌아와서 Perceptron이 많아진다는것은 Non-linear data를 더 잘 해석한다는 뜻이며\n",
        "Perceptron별로 구분하는 선을 그려 데이터를 해석함.\n",
        "\n",
        "<center><img src=https://www.dropbox.com/s/bug77tdqdrjhrhm/Figure_02_09.PNG?dl=1></center>"
      ],
      "metadata": {
        "id": "3Z_IFJ1lbV6W"
      },
      "id": "3Z_IFJ1lbV6W"
    },
    {
      "cell_type": "markdown",
      "source": [
        "+ 신경망을 두개 이상의 뉴런으로 만드는 법을 확인해봤으니 좀더 복잡한 모델을 만들어 보자\n",
        "\n",
        "+ 직접 모델 만들어 보기\n",
        "(https://playground.tensorflow.org/)\n",
        "\n",
        "+ 신경망의 주요 구성 요소\n",
        "  + Input Layer : Input data로서 Feature Vector를 포함함.\n",
        "  + Hidden Layer : 내부에 뉴런을 포함하는 숨겨진 계층을 뜻함. 들어가는 입력과 출력을 볼 수 없기 때문에 hidden Layer라 명칭함. 그렇기 때문에 우리는 Input layer에 Input data를 넣고 Output Layer에서 나오는 출력만 확인하면 됨\n",
        "  + Output Layer : 모델의 결과를 확인할 수 있음. 신경망 설계에 따라 최종 출력은 실수값 출력(Regression) 혹은 확률 집합(Classification)이 될 수 있음.\n",
        "\n",
        "\n",
        "\n",
        "<center><img src=https://www.dropbox.com/s/k22pb4p5up00sxj/Figure_02_10.PNG?dl=1></center>"
      ],
      "metadata": {
        "id": "kq8TWJGybV07"
      },
      "id": "kq8TWJGybV07"
    },
    {
      "cell_type": "markdown",
      "source": [
        "+ Exercise\n",
        "\n",
        "<center><img src=https://www.dropbox.com/s/e0x55h9ocbxgtxu/Figure_03_03.PNG?dl=1><h5>설계할 간단한 MLP 모델 구조</h5></center>"
      ],
      "metadata": {
        "id": "OcovluKmbVvR"
      },
      "id": "OcovluKmbVvR"
    },
    {
      "cell_type": "code",
      "source": [
        "import tensorflow\n",
        "from tensorflow.keras.models import Sequential\n",
        "from tensorflow.keras.layers import Flatten, Dense\n",
        "\n",
        "model = Sequential()\n",
        "model.add( Flatten(input_shape=(28, 28) ))\n",
        "model.add(Dense(512, activation='relu'))\n",
        "model.add(Dense(512, activation='relu'))\n",
        "model.add(Dense(10, activation='softmax'))\n",
        "model.summary()"
      ],
      "metadata": {
        "id": "_vP_Kwt06f-o",
        "colab": {
          "base_uri": "https://localhost:8080/",
          "height": 320
        },
        "outputId": "20c5e8af-fda4-415e-de91-4902c83ef7a9"
      },
      "id": "_vP_Kwt06f-o",
      "execution_count": null,
      "outputs": [
        {
          "output_type": "stream",
          "name": "stderr",
          "text": [
            "/usr/local/lib/python3.11/dist-packages/keras/src/layers/reshaping/flatten.py:37: UserWarning: Do not pass an `input_shape`/`input_dim` argument to a layer. When using Sequential models, prefer using an `Input(shape)` object as the first layer in the model instead.\n",
            "  super().__init__(**kwargs)\n"
          ]
        },
        {
          "output_type": "display_data",
          "data": {
            "text/plain": [
              "\u001b[1mModel: \"sequential\"\u001b[0m\n"
            ],
            "text/html": [
              "<pre style=\"white-space:pre;overflow-x:auto;line-height:normal;font-family:Menlo,'DejaVu Sans Mono',consolas,'Courier New',monospace\"><span style=\"font-weight: bold\">Model: \"sequential\"</span>\n",
              "</pre>\n"
            ]
          },
          "metadata": {}
        },
        {
          "output_type": "display_data",
          "data": {
            "text/plain": [
              "┏━━━━━━━━━━━━━━━━━━━━━━━━━━━━━━━━━━━━━━┳━━━━━━━━━━━━━━━━━━━━━━━━━━━━━┳━━━━━━━━━━━━━━━━━┓\n",
              "┃\u001b[1m \u001b[0m\u001b[1mLayer (type)                        \u001b[0m\u001b[1m \u001b[0m┃\u001b[1m \u001b[0m\u001b[1mOutput Shape               \u001b[0m\u001b[1m \u001b[0m┃\u001b[1m \u001b[0m\u001b[1m        Param #\u001b[0m\u001b[1m \u001b[0m┃\n",
              "┡━━━━━━━━━━━━━━━━━━━━━━━━━━━━━━━━━━━━━━╇━━━━━━━━━━━━━━━━━━━━━━━━━━━━━╇━━━━━━━━━━━━━━━━━┩\n",
              "│ flatten (\u001b[38;5;33mFlatten\u001b[0m)                    │ (\u001b[38;5;45mNone\u001b[0m, \u001b[38;5;34m784\u001b[0m)                 │               \u001b[38;5;34m0\u001b[0m │\n",
              "├──────────────────────────────────────┼─────────────────────────────┼─────────────────┤\n",
              "│ dense (\u001b[38;5;33mDense\u001b[0m)                        │ (\u001b[38;5;45mNone\u001b[0m, \u001b[38;5;34m512\u001b[0m)                 │         \u001b[38;5;34m401,920\u001b[0m │\n",
              "├──────────────────────────────────────┼─────────────────────────────┼─────────────────┤\n",
              "│ dense_1 (\u001b[38;5;33mDense\u001b[0m)                      │ (\u001b[38;5;45mNone\u001b[0m, \u001b[38;5;34m512\u001b[0m)                 │         \u001b[38;5;34m262,656\u001b[0m │\n",
              "├──────────────────────────────────────┼─────────────────────────────┼─────────────────┤\n",
              "│ dense_2 (\u001b[38;5;33mDense\u001b[0m)                      │ (\u001b[38;5;45mNone\u001b[0m, \u001b[38;5;34m10\u001b[0m)                  │           \u001b[38;5;34m5,130\u001b[0m │\n",
              "└──────────────────────────────────────┴─────────────────────────────┴─────────────────┘\n"
            ],
            "text/html": [
              "<pre style=\"white-space:pre;overflow-x:auto;line-height:normal;font-family:Menlo,'DejaVu Sans Mono',consolas,'Courier New',monospace\">┏━━━━━━━━━━━━━━━━━━━━━━━━━━━━━━━━━━━━━━┳━━━━━━━━━━━━━━━━━━━━━━━━━━━━━┳━━━━━━━━━━━━━━━━━┓\n",
              "┃<span style=\"font-weight: bold\"> Layer (type)                         </span>┃<span style=\"font-weight: bold\"> Output Shape                </span>┃<span style=\"font-weight: bold\">         Param # </span>┃\n",
              "┡━━━━━━━━━━━━━━━━━━━━━━━━━━━━━━━━━━━━━━╇━━━━━━━━━━━━━━━━━━━━━━━━━━━━━╇━━━━━━━━━━━━━━━━━┩\n",
              "│ flatten (<span style=\"color: #0087ff; text-decoration-color: #0087ff\">Flatten</span>)                    │ (<span style=\"color: #00d7ff; text-decoration-color: #00d7ff\">None</span>, <span style=\"color: #00af00; text-decoration-color: #00af00\">784</span>)                 │               <span style=\"color: #00af00; text-decoration-color: #00af00\">0</span> │\n",
              "├──────────────────────────────────────┼─────────────────────────────┼─────────────────┤\n",
              "│ dense (<span style=\"color: #0087ff; text-decoration-color: #0087ff\">Dense</span>)                        │ (<span style=\"color: #00d7ff; text-decoration-color: #00d7ff\">None</span>, <span style=\"color: #00af00; text-decoration-color: #00af00\">512</span>)                 │         <span style=\"color: #00af00; text-decoration-color: #00af00\">401,920</span> │\n",
              "├──────────────────────────────────────┼─────────────────────────────┼─────────────────┤\n",
              "│ dense_1 (<span style=\"color: #0087ff; text-decoration-color: #0087ff\">Dense</span>)                      │ (<span style=\"color: #00d7ff; text-decoration-color: #00d7ff\">None</span>, <span style=\"color: #00af00; text-decoration-color: #00af00\">512</span>)                 │         <span style=\"color: #00af00; text-decoration-color: #00af00\">262,656</span> │\n",
              "├──────────────────────────────────────┼─────────────────────────────┼─────────────────┤\n",
              "│ dense_2 (<span style=\"color: #0087ff; text-decoration-color: #0087ff\">Dense</span>)                      │ (<span style=\"color: #00d7ff; text-decoration-color: #00d7ff\">None</span>, <span style=\"color: #00af00; text-decoration-color: #00af00\">10</span>)                  │           <span style=\"color: #00af00; text-decoration-color: #00af00\">5,130</span> │\n",
              "└──────────────────────────────────────┴─────────────────────────────┴─────────────────┘\n",
              "</pre>\n"
            ]
          },
          "metadata": {}
        },
        {
          "output_type": "display_data",
          "data": {
            "text/plain": [
              "\u001b[1m Total params: \u001b[0m\u001b[38;5;34m669,706\u001b[0m (2.55 MB)\n"
            ],
            "text/html": [
              "<pre style=\"white-space:pre;overflow-x:auto;line-height:normal;font-family:Menlo,'DejaVu Sans Mono',consolas,'Courier New',monospace\"><span style=\"font-weight: bold\"> Total params: </span><span style=\"color: #00af00; text-decoration-color: #00af00\">669,706</span> (2.55 MB)\n",
              "</pre>\n"
            ]
          },
          "metadata": {}
        },
        {
          "output_type": "display_data",
          "data": {
            "text/plain": [
              "\u001b[1m Trainable params: \u001b[0m\u001b[38;5;34m669,706\u001b[0m (2.55 MB)\n"
            ],
            "text/html": [
              "<pre style=\"white-space:pre;overflow-x:auto;line-height:normal;font-family:Menlo,'DejaVu Sans Mono',consolas,'Courier New',monospace\"><span style=\"font-weight: bold\"> Trainable params: </span><span style=\"color: #00af00; text-decoration-color: #00af00\">669,706</span> (2.55 MB)\n",
              "</pre>\n"
            ]
          },
          "metadata": {}
        },
        {
          "output_type": "display_data",
          "data": {
            "text/plain": [
              "\u001b[1m Non-trainable params: \u001b[0m\u001b[38;5;34m0\u001b[0m (0.00 B)\n"
            ],
            "text/html": [
              "<pre style=\"white-space:pre;overflow-x:auto;line-height:normal;font-family:Menlo,'DejaVu Sans Mono',consolas,'Courier New',monospace\"><span style=\"font-weight: bold\"> Non-trainable params: </span><span style=\"color: #00af00; text-decoration-color: #00af00\">0</span> (0.00 B)\n",
              "</pre>\n"
            ]
          },
          "metadata": {}
        }
      ]
    },
    {
      "cell_type": "markdown",
      "source": [
        "* **Line 1**: TensorFlow 라이브러리를 가져옵니다.\n",
        "* **Line 2**: Keras 라이브러리를 가져옵니다.\n",
        "* **Line 3**: 이미지 행렬을 벡터로 변환하기 위해 Flatten 레이어를 가져옵니다.\n",
        "* **Line 5**: 신경망 아키텍처를 정의합니다.\n",
        "* **Line 6**: Flatten Layer를 추가합니다.\n",
        "* **Line 7~8**: 각각 512개의 노드를 가진 Hidden Layer 2개를 추가합니다. Hidden Layer에서는 ReLU Activation Function을 사용.\n",
        "* **Line 9**: 노드가 10개인 출력 밀도 레이어 1개를 추가합니다. 다중 클래스 분류 문제의 경우 출력 레이어에서 Softmax Activation Function을 사용.\n",
        "* **Line 10**: 모델 아키텍처 요약을 출력\n"
      ],
      "metadata": {
        "id": "PL7bXMz56jm0"
      },
      "id": "PL7bXMz56jm0"
    },
    {
      "cell_type": "code",
      "source": [
        "# Full code\n",
        "\n",
        "import tensorflow\n",
        "import matplotlib.pyplot as plt\n",
        "from tensorflow.keras.datasets import mnist\n",
        "from tensorflow.keras.models import Sequential\n",
        "from tensorflow.keras.layers import Flatten, Dense\n",
        "\n",
        "(X_train, Y_train), (X_test, Y_test) = mnist.load_data()\n",
        "\n",
        "\n",
        "plt.imshow(X_train[2])\n",
        "\n",
        "\n",
        "model = Sequential()\n",
        "model.add( Flatten(input_shape=(28, 28) ))\n",
        "model.add(Dense(512, activation='relu'))\n",
        "model.add(Dense(512, activation='relu'))\n",
        "model.add(Dense(10, activation='softmax'))\n",
        "\n",
        "\n",
        "model.compile(loss='sparse_categorical_crossentropy', optimizer='adam', metrics=['SparseCategoricalAccuracy'])\n",
        "\n",
        "model.fit(X_train, Y_train, epochs=10, batch_size=32)\n",
        "\n",
        "\n",
        "\n",
        "\n",
        "\n"
      ],
      "metadata": {
        "colab": {
          "base_uri": "https://localhost:8080/",
          "height": 841
        },
        "id": "9sRQ8Pdq74ot",
        "outputId": "6dbe4ce2-5860-4122-c1b4-2178a62e308d"
      },
      "id": "9sRQ8Pdq74ot",
      "execution_count": null,
      "outputs": [
        {
          "output_type": "stream",
          "name": "stdout",
          "text": [
            "Downloading data from https://storage.googleapis.com/tensorflow/tf-keras-datasets/mnist.npz\n",
            "\u001b[1m11490434/11490434\u001b[0m \u001b[32m━━━━━━━━━━━━━━━━━━━━\u001b[0m\u001b[37m\u001b[0m \u001b[1m1s\u001b[0m 0us/step\n",
            "Epoch 1/10\n",
            "\u001b[1m1875/1875\u001b[0m \u001b[32m━━━━━━━━━━━━━━━━━━━━\u001b[0m\u001b[37m\u001b[0m \u001b[1m34s\u001b[0m 17ms/step - SparseCategoricalAccuracy: 0.8639 - loss: 4.3893\n",
            "Epoch 2/10\n",
            "\u001b[1m1875/1875\u001b[0m \u001b[32m━━━━━━━━━━━━━━━━━━━━\u001b[0m\u001b[37m\u001b[0m \u001b[1m27s\u001b[0m 14ms/step - SparseCategoricalAccuracy: 0.9501 - loss: 0.1955\n",
            "Epoch 3/10\n",
            "\u001b[1m1875/1875\u001b[0m \u001b[32m━━━━━━━━━━━━━━━━━━━━\u001b[0m\u001b[37m\u001b[0m \u001b[1m20s\u001b[0m 11ms/step - SparseCategoricalAccuracy: 0.9563 - loss: 0.1703\n",
            "Epoch 4/10\n",
            "\u001b[1m1875/1875\u001b[0m \u001b[32m━━━━━━━━━━━━━━━━━━━━\u001b[0m\u001b[37m\u001b[0m \u001b[1m21s\u001b[0m 11ms/step - SparseCategoricalAccuracy: 0.9591 - loss: 0.1536\n",
            "Epoch 5/10\n",
            "\u001b[1m1875/1875\u001b[0m \u001b[32m━━━━━━━━━━━━━━━━━━━━\u001b[0m\u001b[37m\u001b[0m \u001b[1m20s\u001b[0m 11ms/step - SparseCategoricalAccuracy: 0.9621 - loss: 0.1426\n",
            "Epoch 6/10\n",
            "\u001b[1m1875/1875\u001b[0m \u001b[32m━━━━━━━━━━━━━━━━━━━━\u001b[0m\u001b[37m\u001b[0m \u001b[1m23s\u001b[0m 12ms/step - SparseCategoricalAccuracy: 0.9685 - loss: 0.1224\n",
            "Epoch 7/10\n",
            "\u001b[1m1875/1875\u001b[0m \u001b[32m━━━━━━━━━━━━━━━━━━━━\u001b[0m\u001b[37m\u001b[0m \u001b[1m21s\u001b[0m 11ms/step - SparseCategoricalAccuracy: 0.9697 - loss: 0.1154\n",
            "Epoch 8/10\n",
            "\u001b[1m1875/1875\u001b[0m \u001b[32m━━━━━━━━━━━━━━━━━━━━\u001b[0m\u001b[37m\u001b[0m \u001b[1m20s\u001b[0m 11ms/step - SparseCategoricalAccuracy: 0.9751 - loss: 0.0977\n",
            "Epoch 9/10\n",
            "\u001b[1m1875/1875\u001b[0m \u001b[32m━━━━━━━━━━━━━━━━━━━━\u001b[0m\u001b[37m\u001b[0m \u001b[1m21s\u001b[0m 11ms/step - SparseCategoricalAccuracy: 0.9766 - loss: 0.1014\n",
            "Epoch 10/10\n",
            "\u001b[1m1875/1875\u001b[0m \u001b[32m━━━━━━━━━━━━━━━━━━━━\u001b[0m\u001b[37m\u001b[0m \u001b[1m21s\u001b[0m 11ms/step - SparseCategoricalAccuracy: 0.9789 - loss: 0.0865\n"
          ]
        },
        {
          "output_type": "execute_result",
          "data": {
            "text/plain": [
              "<keras.src.callbacks.history.History at 0x79317a018e90>"
            ]
          },
          "metadata": {},
          "execution_count": 25
        },
        {
          "output_type": "display_data",
          "data": {
            "text/plain": [
              "<Figure size 640x480 with 1 Axes>"
            ],
            "image/png": "[encoded data removed]"
          },
          "metadata": {}
        }
      ]
    },
    {
      "cell_type": "code",
      "execution_count": null,
      "id": "7f5eab9d-d7c5-41ed-a784-589cc56bbe11",
      "metadata": {
        "id": "7f5eab9d-d7c5-41ed-a784-589cc56bbe11",
        "colab": {
          "base_uri": "https://localhost:8080/"
        },
        "outputId": "6d2ec47e-1dcd-47de-a2fc-ba06bae272e2"
      },
      "outputs": [
        {
          "output_type": "stream",
          "name": "stdout",
          "text": [
            "\u001b[1m313/313\u001b[0m \u001b[32m━━━━━━━━━━━━━━━━━━━━\u001b[0m\u001b[37m\u001b[0m \u001b[1m1s\u001b[0m 4ms/step - SparseCategoricalAccuracy: 0.9653 - loss: 0.2442\n"
          ]
        }
      ],
      "source": [
        "test_lose, test_acc = model.evaluate(X_test, Y_test)\n"
      ]
    },
    {
      "cell_type": "markdown",
      "id": "d0e96a02-8b0d-4fe5-b4ec-7d9ef49a293f",
      "metadata": {
        "id": "d0e96a02-8b0d-4fe5-b4ec-7d9ef49a293f"
      },
      "source": [
        "### Input layer\n",
        "\n",
        "\n",
        "2D 이미지로 작업할 때는 네트워크에 이미지를 전송하기 전에 네트워크가 이해할 수 있는 형태로 처리해야함. 우리는 위에서 mnist 데이터셋을 사용했고 28 * 28픽셀 구조에 0에서 255(검은색은 0, 흰색은 255) 값을 가지고 있음"
      ]
    },
    {
      "cell_type": "code",
      "execution_count": null,
      "id": "6f534aeb-4425-40ce-9198-b2a70ece1fdf",
      "metadata": {
        "id": "6f534aeb-4425-40ce-9198-b2a70ece1fdf"
      },
      "outputs": [],
      "source": []
    },
    {
      "cell_type": "markdown",
      "id": "6a776d6a-23c7-4412-94b5-1191a7cf8d44",
      "metadata": {
        "id": "6a776d6a-23c7-4412-94b5-1191a7cf8d44"
      },
      "source": [
        "<center><img src=https://www.dropbox.com/s/dmgfzluevnv43kx/Figure_03_02.PNG?dl=1><h5>Figure 3.2: The computer sees this image as a $28 \\times 28$ matrix of pixel values ranging from 0 to 255.</h5></center>"
      ]
    },
    {
      "cell_type": "code",
      "execution_count": null,
      "id": "de56d25e-7187-45d3-9e2f-edc4633e5939",
      "metadata": {
        "id": "de56d25e-7187-45d3-9e2f-edc4633e5939"
      },
      "outputs": [],
      "source": []
    },
    {
      "cell_type": "markdown",
      "id": "61f13719-5776-49ec-bff0-98158fc5df57",
      "metadata": {
        "id": "61f13719-5776-49ec-bff0-98158fc5df57"
      },
      "source": [
        "MLP는 차원이 (1,n)인 1D 벡터만 입력으로 받기 때문에 차원이 (m,n)인 2D 이미지 행렬은 입력으로 받을 수 없습니다. 그렇기 때문에 입력 레이어에 이미지를 맞추려면 먼저 이미지의 모든 픽셀 값을 포함하는 차원 (1,n)의 하나의 큰 벡터로 이미지를 변환해야 합니다. 이 과정을 flatten 이라고 합니다. mnist 데이터셋은 총 픽셀 수는 28×28=784입니다. 그런 다음 이 이미지를 네트워크에 공급하려면 (28×28) 행렬을 크기가 (1,784) 인 하나의 긴 벡터로 평탄화해야 합니다. 입력 벡터는 다음과 같습니다:\n",
        "\n",
        "$$x = [row1, row2, row3, ..., row28]$$\n",
        "\n",
        "이것은 즉 input layer에서 토탈 노드의 갯수는 784개라는 뜻입니다.\n",
        "$784$ nodes: $x1, x2, …, x784$."
      ]
    },
    {
      "cell_type": "code",
      "execution_count": null,
      "id": "b6d593a5-4b2e-4736-a3aa-8eb48b6afe96",
      "metadata": {
        "id": "b6d593a5-4b2e-4736-a3aa-8eb48b6afe96"
      },
      "outputs": [],
      "source": []
    },
    {
      "cell_type": "code",
      "execution_count": null,
      "id": "b421b8f2-2c82-40dc-a0de-edde1516c7da",
      "metadata": {
        "id": "b421b8f2-2c82-40dc-a0de-edde1516c7da"
      },
      "outputs": [],
      "source": []
    },
    {
      "cell_type": "markdown",
      "id": "1ef92426-fba2-40c2-8f65-f76858432edf",
      "metadata": {
        "id": "1ef92426-fba2-40c2-8f65-f76858432edf"
      },
      "source": [
        "### Hidden layers\n",
        "\n",
        "앞에서 우리는 신강망이 한개 이상의 뉴런을 포함하는 hidden layer를 가지고 있다는걸 알았다.\n",
        "우리는 512개의 노드를 가지고 있는 hidden layer 2개를 만들고 activation function으로 ReLU를 사용했음을 기억하자.\n"
      ]
    },
    {
      "cell_type": "code",
      "source": [
        "from tensorflow.keras.layers import Dense\n",
        "\n",
        "model.add(Dense(512, activation = 'relu'))\n",
        "model.add(Dense(512, activation = 'relu'))"
      ],
      "metadata": {
        "id": "oUFT7JYgShF0"
      },
      "id": "oUFT7JYgShF0",
      "execution_count": null,
      "outputs": []
    },
    {
      "cell_type": "markdown",
      "id": "d0f53f72-a539-45a2-b22e-5ed06673be28",
      "metadata": {
        "id": "d0f53f72-a539-45a2-b22e-5ed06673be28"
      },
      "source": [
        "### Output layer\n",
        "\n",
        "Output layer는 분류 문제에서 출력 계층의 노드 수는 감지하려는 클래스의 수와 같아야 합니다. mnist는 10자리(0,1,2,3,4,5,6,7,8,9)정보를 가지고 있기 때문에 최종 레이어틑 10개의 노드로 설계되어야함."
      ]
    },
    {
      "cell_type": "code",
      "execution_count": null,
      "id": "b1b91444-a6e8-474e-8973-254349c7e738",
      "metadata": {
        "id": "b1b91444-a6e8-474e-8973-254349c7e738"
      },
      "outputs": [],
      "source": [
        "model.add(Dense(10, activation = 'softmax'))"
      ]
    },
    {
      "cell_type": "markdown",
      "id": "06da8d1f-e8da-432d-af62-23272fc9ccdd",
      "metadata": {
        "id": "06da8d1f-e8da-432d-af62-23272fc9ccdd"
      },
      "source": [
        "5. CNN\n"
      ]
    },
    {
      "cell_type": "markdown",
      "id": "a33faa2e-f71f-47d7-8997-6d98d21f1015",
      "metadata": {
        "id": "a33faa2e-f71f-47d7-8997-6d98d21f1015"
      },
      "source": [
        "<center><img src=https://www.dropbox.com/s/olvd6d13hsjs1xv/Figure_03_07.PNG?dl=1><h5>CNN 모델의 학습방법은 데이터에 대해 세부 feature > 고차원 feature 로 학습 차원을 높이며 학습한다.</h5></center>"
      ]
    },
    {
      "cell_type": "markdown",
      "id": "5d0a8ebb-affc-49d6-87bd-b6a8447c8160",
      "metadata": {
        "id": "5d0a8ebb-affc-49d6-87bd-b6a8447c8160"
      },
      "source": [
        "<div class=\"warning\" style='padding:0.1em; background-color:#E9D8FD; color:#69337A'>\n",
        "<span>\n",
        "<p style='margin-top:1em; text-align:center'>\n",
        "<h2>CNN architecture</h2></p>\n",
        "<p style='margin-left:1em;'>\n",
        "</p>\n",
        "</div>"
      ]
    },
    {
      "cell_type": "markdown",
      "id": "57801d0b-1854-49cb-842c-50c690759e3e",
      "metadata": {
        "id": "57801d0b-1854-49cb-842c-50c690759e3e"
      },
      "source": [
        "일반 신경망에는 각 레이어가 연속적으로 복잡한 특징을 찾을 수 있는 여러 레이어가 포함되어 있으며, 이것이 CNN이 작동하는 방식입니다. 컨볼루션의 첫 번째 레이어는 몇 가지 기본 특징(가장자리와 선)을 학습하고, 다음 레이어는 조금 더 복잡한 특징(원, 사각형 등)을 학습하고, 그 다음 레이어는 더 복잡한 특징(얼굴의 일부, 자동차 바퀴, 개 수염 등)을 찾는 식으로 학습합니다."
      ]
    },
    {
      "cell_type": "markdown",
      "id": "74f96fbc-20b9-4ae9-8399-d279bc10c60d",
      "metadata": {
        "id": "74f96fbc-20b9-4ae9-8399-d279bc10c60d"
      },
      "source": [
        "<center><img src=https://www.dropbox.com/s/4u4ci7p1zodt1nq/Figure_03_09.PNG?dl=1><h5>image classification은 4가지로 구성된다 :  순서는 data input, data preprocessing, feature extraction, ML algorithm 순이다.</h5></center>"
      ]
    },
    {
      "cell_type": "code",
      "execution_count": null,
      "id": "a270ef30-2275-4d2d-a58f-026d334965ad",
      "metadata": {
        "id": "a270ef30-2275-4d2d-a58f-026d334965ad"
      },
      "outputs": [],
      "source": []
    },
    {
      "cell_type": "code",
      "execution_count": null,
      "id": "01d6375d-bf28-4f3c-9e35-7de192309d11",
      "metadata": {
        "id": "01d6375d-bf28-4f3c-9e35-7de192309d11"
      },
      "outputs": [],
      "source": []
    },
    {
      "cell_type": "markdown",
      "id": "1f27b49a-3708-45f3-9b65-3b5f3978082f",
      "metadata": {
        "id": "1f27b49a-3708-45f3-9b65-3b5f3978082f"
      },
      "source": [
        "<center><img src=https://www.dropbox.com/s/i2xxujuhw3m9k72/Figure_03_10.PNG?dl=1><h5>CNN architecture는 input layer, convolutional layers, fully connected layers, output prediction 순으로 구성된다.</h5></center>"
      ]
    },
    {
      "cell_type": "markdown",
      "id": "0870117a-50ff-4ce3-8bc9-dedfe3cb8af3",
      "metadata": {
        "id": "0870117a-50ff-4ce3-8bc9-dedfe3cb8af3"
      },
      "source": [
        "<center><img src=https://www.dropbox.com/s/ijxlm59ntva69l4/Figure_03_11.PNG?dl=1><h5>Feature extraction 부분에서는 들어온 input image가 작은 feature로 변환된다는것을 명심하세요.</h5></center>"
      ]
    },
    {
      "cell_type": "code",
      "execution_count": null,
      "id": "33bb704a-d1aa-410e-bd19-f5c980ccef65",
      "metadata": {
        "id": "33bb704a-d1aa-410e-bd19-f5c980ccef65"
      },
      "outputs": [],
      "source": []
    },
    {
      "cell_type": "code",
      "execution_count": null,
      "id": "5cf879f4-ac9e-4a2f-831f-7b20eab4eeae",
      "metadata": {
        "id": "5cf879f4-ac9e-4a2f-831f-7b20eab4eeae"
      },
      "outputs": [],
      "source": []
    },
    {
      "cell_type": "markdown",
      "id": "44df62aa-a334-40f8-a348-5d0190a676af",
      "metadata": {
        "id": "44df62aa-a334-40f8-a348-5d0190a676af"
      },
      "source": [
        "> #### How CNNs learn patterns\n",
        "> ---\n",
        ">\n",
        "> CNN은 이미지 입력에서 특징 벡터로 바로 하나의 레이어에서 이동하지 않는다는 점에 유의해야 합니다.  일반적으로 수십 또는 수백 개의 레이어에서 발생합니다. 특징 학습 과정은 각 숨겨진 레이어마다 단계적으로 이루어집니다. 따라서 첫 번째 레이어에서는 일반적으로 선과 가장자리와 같은 매우 기본적인 특징을 학습하고 두 번째 레이어에서는 이러한 선을 인식 가능한 모양, 모서리 및 원으로 조립합니다. 그런 다음 더 깊은 계층에서 네트워크는 사람의 손, 눈, 귀 등과 같은 더 복잡한 모양을 학습합니다. 예를 들어, 다음은 CNN이 얼굴을 학습하는 방법을 단순화한 버전입니다."
      ]
    },
    {
      "cell_type": "code",
      "execution_count": null,
      "id": "5409f573-b40f-43e0-9dc2-56558eed783c",
      "metadata": {
        "id": "5409f573-b40f-43e0-9dc2-56558eed783c"
      },
      "outputs": [],
      "source": []
    },
    {
      "cell_type": "markdown",
      "id": "634ee82d-f568-4988-8773-eb58604341b1",
      "metadata": {
        "id": "634ee82d-f568-4988-8773-eb58604341b1"
      },
      "source": [
        "<center><img src=https://www.dropbox.com/s/i99xjvl2rxod30f/Figure_03_features_low_to_high.PNG?dl=1><h5>CNN이 사람얼굴을 배우는 간단한 예</h5></center>"
      ]
    },
    {
      "cell_type": "code",
      "execution_count": null,
      "id": "c55e5421-9b36-458b-a71c-7cf24de353ed",
      "metadata": {
        "id": "c55e5421-9b36-458b-a71c-7cf24de353ed"
      },
      "outputs": [],
      "source": []
    },
    {
      "cell_type": "markdown",
      "source": [],
      "metadata": {
        "id": "IwTP3q4HaDgg"
      },
      "id": "IwTP3q4HaDgg"
    },
    {
      "cell_type": "markdown",
      "id": "1330834a-4221-4764-a7b9-ec0ccd83e124",
      "metadata": {
        "id": "1330834a-4221-4764-a7b9-ec0ccd83e124"
      },
      "source": [
        "<center><img src=https://www.dropbox.com/s/jfr00okds914ltf/Figure_03_12.PNG?dl=1><h5>Convolution Network는 특징을 추출을하는 convolution layer와 pooling layer, classification을 위한 fully connected layer로 구성됩니다.</h5></center>"
      ]
    },
    {
      "cell_type": "markdown",
      "id": "2830f05f-0be9-4a1e-a3de-658235c197d5",
      "metadata": {
        "id": "2830f05f-0be9-4a1e-a3de-658235c197d5"
      },
      "source": [
        "### Convolutional layers\n",
        "\n",
        "컨볼루션 레이어는 컨볼루션 신경망의 핵심 구성 요소입니다.\n",
        "\n",
        "컨볼루션 레이어는 이미지에서 물체를 식별하는 의미 있는 특징을 추출하기 위해 이미지를 픽셀 단위로 슬라이드하는 특징 찾기 창과 같은 역할을 합니다."
      ]
    },
    {
      "cell_type": "code",
      "execution_count": null,
      "id": "d77e5bd0-3e30-43e2-869b-09dad0099c76",
      "metadata": {
        "id": "d77e5bd0-3e30-43e2-869b-09dad0099c76"
      },
      "outputs": [],
      "source": []
    },
    {
      "cell_type": "markdown",
      "id": "aa62b16b-a517-4edf-8a8e-2dafbe6abe06",
      "metadata": {
        "id": "aa62b16b-a517-4edf-8a8e-2dafbe6abe06"
      },
      "source": [
        "#### WHAT IS CONVOLUTION?\n",
        "---\n",
        "\n",
        "\n",
        "\n",
        "\n",
        "수학에서 컨볼루션은 두 함수를 연산하여 세 번째 수정된 함수를 생성하는 것을 말합니다. CNN의 맥락에서 첫 번째 함수는 입력 이미지이고 두 번째 함수는 컨볼루션 필터입니다. 새로운 픽셀 값으로 수정된 이미지를 생성하기 위해 몇 가지 수학적 연산을 수행합니다.\n",
        "\n"
      ]
    },
    {
      "cell_type": "code",
      "execution_count": null,
      "id": "7f5598c0-4ad6-4aae-b073-efc6812e1bf0",
      "metadata": {
        "id": "7f5598c0-4ad6-4aae-b073-efc6812e1bf0"
      },
      "outputs": [],
      "source": []
    },
    {
      "cell_type": "markdown",
      "id": "d8e10a6e-4b9e-4133-be8b-6960ac565091",
      "metadata": {
        "id": "d8e10a6e-4b9e-4133-be8b-6960ac565091"
      },
      "source": [
        "<center><img src=https://www.dropbox.com/s/yc6vwnoebfd4l5c/Figure_03_13.PNG?dl=1></center>"
      ]
    },
    {
      "cell_type": "code",
      "execution_count": null,
      "id": "0c650262-608f-418a-843b-a4c3969a52a3",
      "metadata": {
        "id": "0c650262-608f-418a-843b-a4c3969a52a3"
      },
      "outputs": [],
      "source": []
    },
    {
      "cell_type": "code",
      "execution_count": null,
      "id": "88402eb0-2fc4-4b19-a9e2-f683a5503912",
      "metadata": {
        "id": "88402eb0-2fc4-4b19-a9e2-f683a5503912"
      },
      "outputs": [],
      "source": []
    },
    {
      "cell_type": "markdown",
      "id": "6fa66ffb-a6fa-47d0-aef2-8362aa57c102",
      "metadata": {
        "id": "6fa66ffb-a6fa-47d0-aef2-8362aa57c102"
      },
      "source": [
        "<center><img src=https://www.dropbox.com/s/8hstcv6h5p5y03l/Figure_03_edge_detection_output.PNG?dl=1><h5>필터에 따라 colvolution output의 값이 달라짐을 명심. CNN 모델은 필터를 학습한다."
      ]
    },
    {
      "cell_type": "code",
      "execution_count": null,
      "id": "8091f13b-54a0-4dab-813b-0686b31c7bab",
      "metadata": {
        "id": "8091f13b-54a0-4dab-813b-0686b31c7bab"
      },
      "outputs": [],
      "source": []
    },
    {
      "cell_type": "markdown",
      "id": "78d18091-e5d2-4611-a06f-788ed55de81c",
      "metadata": {
        "id": "78d18091-e5d2-4611-a06f-788ed55de81c"
      },
      "source": [
        "<center><img src=https://www.dropbox.com/s/4fz173jexu6thhc/Figure_03_17.PNG?dl=1></center>"
      ]
    },
    {
      "cell_type": "code",
      "execution_count": null,
      "id": "b4ebc0f9-6b03-423f-97ab-1518579173fa",
      "metadata": {
        "id": "b4ebc0f9-6b03-423f-97ab-1518579173fa"
      },
      "outputs": [],
      "source": []
    },
    {
      "cell_type": "code",
      "execution_count": null,
      "id": "4f06fda5-3aef-4535-b928-69b3b130f06c",
      "metadata": {
        "id": "4f06fda5-3aef-4535-b928-69b3b130f06c"
      },
      "outputs": [],
      "source": []
    },
    {
      "cell_type": "markdown",
      "id": "3c89ad1d-7c12-494d-b4f9-96f6d4eecb2a",
      "metadata": {
        "id": "3c89ad1d-7c12-494d-b4f9-96f6d4eecb2a"
      },
      "source": [
        "#### STRIDES AND PADDING\n",
        "---\n",
        "\n",
        "You will usually think of these two hyperparameters together, because they both control the shape of the output of a convolutional layer. Let’s see how:\n",
        "\n",
        "* *Strides* — 필터가 이미지 위로 슬라이드하는 양입니다. 예를 들어 컨볼루션 필터를 한 번에 한 픽셀씩 슬라이드하려면 stride는  1이고, 한 번에 두 픽셀씩 점프하려면 stride는 2입니다.\n",
        "\n",
        "\n",
        "* *Padding* — 이미지 테두리 주변에 0을 추가하기 때문에 종종 zero padding 이라고도 합니다. 패딩은 입력 볼륨의 공간 크기를 유지하여 입력과 출력의 폭과 높이가 동일하도록 하는 데 사용됩니다. padding을 사용하지 않는다면 더 깊은 레이어로 갈수록 높이/너비가 줄어들기 때문에 더 깊은 네트워크를 구축하는 데 padding은 중요합니다."
      ]
    },
    {
      "cell_type": "code",
      "execution_count": null,
      "id": "e9ac4009-f03d-44aa-b25a-8cd2aba49d92",
      "metadata": {
        "id": "e9ac4009-f03d-44aa-b25a-8cd2aba49d92"
      },
      "outputs": [],
      "source": []
    },
    {
      "cell_type": "markdown",
      "id": "b567d58d-76b3-476c-8bf1-aa33e40b8556",
      "metadata": {
        "id": "b567d58d-76b3-476c-8bf1-aa33e40b8556"
      },
      "source": [
        "<center><img src=https://www.dropbox.com/s/r6vry5thym2wclp/Figure_03_19.PNG?dl=1><h5></h5></center>"
      ]
    },
    {
      "cell_type": "code",
      "execution_count": null,
      "id": "042bbcb8-f82f-4203-b02d-53eb10963ee3",
      "metadata": {
        "id": "042bbcb8-f82f-4203-b02d-53eb10963ee3"
      },
      "outputs": [],
      "source": []
    },
    {
      "cell_type": "markdown",
      "id": "321069b2-567a-4921-91da-0462ec08c8e0",
      "metadata": {
        "id": "321069b2-567a-4921-91da-0462ec08c8e0"
      },
      "source": [
        "### 3.3.2. Pooling layers\n",
        "\n",
        "pooling layer는 다음 레이어로 전달되는 파라미터의 수를 줄여 네트워크의 크기를 줄이는 데 도움이 됩니다. pooling 작업은 최대값이나 평균과 같은 요약 통계 함수를 적용하여 입력의 크기를 조정하여 다음 레이어로 전달되는 전체 매개변수 수를 줄입니다.\n",
        "\n",
        "pooling layer의 목표는 colvolution layer에서 생성된 특징 맵을 더 적은 수의 파라미터로 다운샘플링하여 계산 복잡성을 줄이는 것입니다."
      ]
    },
    {
      "cell_type": "code",
      "execution_count": null,
      "id": "94fda4cb-86b6-4f8e-8757-3a4842909425",
      "metadata": {
        "id": "94fda4cb-86b6-4f8e-8757-3a4842909425"
      },
      "outputs": [],
      "source": []
    },
    {
      "cell_type": "markdown",
      "id": "144acd0f-452b-4094-b04f-f603be792f67",
      "metadata": {
        "id": "144acd0f-452b-4094-b04f-f603be792f67"
      },
      "source": [
        "<center><img src=https://www.dropbox.com/s/0hrdrelej5xl2df/Figure_03_20.PNG?dl=1><h5>Pooling layer 는 대부분 convolution layer 뒤에 나온다.</h5></center>"
      ]
    },
    {
      "cell_type": "code",
      "execution_count": null,
      "id": "ec5d9842-d77f-465d-99d5-0d12e4965931",
      "metadata": {
        "id": "ec5d9842-d77f-465d-99d5-0d12e4965931"
      },
      "outputs": [],
      "source": []
    },
    {
      "cell_type": "code",
      "execution_count": null,
      "id": "d383961a-2558-4f7c-b6c8-8448ca3935ff",
      "metadata": {
        "id": "d383961a-2558-4f7c-b6c8-8448ca3935ff"
      },
      "outputs": [],
      "source": []
    },
    {
      "cell_type": "markdown",
      "id": "06379d3a-95f9-476d-b444-cc96e5338a10",
      "metadata": {
        "id": "06379d3a-95f9-476d-b444-cc96e5338a10"
      },
      "source": [
        "> #### Visualize what happens after each layer\n",
        "> ---\n",
        ">\n"
      ]
    },
    {
      "cell_type": "code",
      "execution_count": null,
      "id": "6e7329fd-f414-4c12-965e-21559ef27d4e",
      "metadata": {
        "id": "6e7329fd-f414-4c12-965e-21559ef27d4e"
      },
      "outputs": [],
      "source": []
    },
    {
      "cell_type": "markdown",
      "id": "037b5986-5fb0-46e3-8daf-ec00ed3067a7",
      "metadata": {
        "id": "037b5986-5fb0-46e3-8daf-ec00ed3067a7"
      },
      "source": [
        "<center><img src=https://www.dropbox.com/s/hond6fxgdxhyf4y/Figure_03_layers1.PNG?dl=1></center>"
      ]
    },
    {
      "cell_type": "code",
      "execution_count": null,
      "id": "881e3dcd-7abd-444b-9699-563659caeac7",
      "metadata": {
        "id": "881e3dcd-7abd-444b-9699-563659caeac7"
      },
      "outputs": [],
      "source": []
    },
    {
      "cell_type": "markdown",
      "id": "57ffaea1-ad5a-40e8-b24a-f95e3bbb8ffe",
      "metadata": {
        "id": "57ffaea1-ad5a-40e8-b24a-f95e3bbb8ffe"
      },
      "source": [
        "> pooling layers 이후 이미지의 깊이는 유지되지만 너비와 높이는 줄어듭니다."
      ]
    },
    {
      "cell_type": "code",
      "execution_count": null,
      "id": "50a3842d-6eee-4d29-9d89-8b1f519b1a12",
      "metadata": {
        "id": "50a3842d-6eee-4d29-9d89-8b1f519b1a12"
      },
      "outputs": [],
      "source": []
    },
    {
      "cell_type": "markdown",
      "id": "aff0e532-8843-42de-94a3-3c411dcdf6cb",
      "metadata": {
        "id": "aff0e532-8843-42de-94a3-3c411dcdf6cb"
      },
      "source": [
        "<div class=\"warning\" style='padding:0.1em; background-color:#E9D8FD; color:#69337A'>\n",
        "<span>\n",
        "<p style='margin-top:1em; text-align:center'>\n",
        "<h2>Image Classification Using CNNs</h2></p>\n",
        "<p style='margin-left:1em;'>\n",
        "</p>\n",
        "</div>"
      ]
    },
    {
      "cell_type": "code",
      "execution_count": null,
      "id": "845cc8e0-39c7-468a-8a5e-ffa7b6ae5801",
      "metadata": {
        "id": "845cc8e0-39c7-468a-8a5e-ffa7b6ae5801"
      },
      "outputs": [],
      "source": []
    },
    {
      "cell_type": "code",
      "execution_count": null,
      "id": "5c040343-faac-48eb-9412-43211fea35e7",
      "metadata": {
        "id": "5c040343-faac-48eb-9412-43211fea35e7",
        "colab": {
          "base_uri": "https://localhost:8080/",
          "height": 419
        },
        "outputId": "d8de1da6-c259-43dc-8dd9-5cd1717384fe"
      },
      "outputs": [
        {
          "output_type": "stream",
          "name": "stderr",
          "text": [
            "/usr/local/lib/python3.11/dist-packages/keras/src/layers/convolutional/base_conv.py:107: UserWarning: Do not pass an `input_shape`/`input_dim` argument to a layer. When using Sequential models, prefer using an `Input(shape)` object as the first layer in the model instead.\n",
            "  super().__init__(activity_regularizer=activity_regularizer, **kwargs)\n"
          ]
        },
        {
          "output_type": "display_data",
          "data": {
            "text/plain": [
              "\u001b[1mModel: \"sequential_2\"\u001b[0m\n"
            ],
            "text/html": [
              "<pre style=\"white-space:pre;overflow-x:auto;line-height:normal;font-family:Menlo,'DejaVu Sans Mono',consolas,'Courier New',monospace\"><span style=\"font-weight: bold\">Model: \"sequential_2\"</span>\n",
              "</pre>\n"
            ]
          },
          "metadata": {}
        },
        {
          "output_type": "display_data",
          "data": {
            "text/plain": [
              "┏━━━━━━━━━━━━━━━━━━━━━━━━━━━━━━━━━━━━━━┳━━━━━━━━━━━━━━━━━━━━━━━━━━━━━┳━━━━━━━━━━━━━━━━━┓\n",
              "┃\u001b[1m \u001b[0m\u001b[1mLayer (type)                        \u001b[0m\u001b[1m \u001b[0m┃\u001b[1m \u001b[0m\u001b[1mOutput Shape               \u001b[0m\u001b[1m \u001b[0m┃\u001b[1m \u001b[0m\u001b[1m        Param #\u001b[0m\u001b[1m \u001b[0m┃\n",
              "┡━━━━━━━━━━━━━━━━━━━━━━━━━━━━━━━━━━━━━━╇━━━━━━━━━━━━━━━━━━━━━━━━━━━━━╇━━━━━━━━━━━━━━━━━┩\n",
              "│ conv2d (\u001b[38;5;33mConv2D\u001b[0m)                      │ (\u001b[38;5;45mNone\u001b[0m, \u001b[38;5;34m28\u001b[0m, \u001b[38;5;34m28\u001b[0m, \u001b[38;5;34m32\u001b[0m)          │             \u001b[38;5;34m320\u001b[0m │\n",
              "├──────────────────────────────────────┼─────────────────────────────┼─────────────────┤\n",
              "│ max_pooling2d (\u001b[38;5;33mMaxPooling2D\u001b[0m)         │ (\u001b[38;5;45mNone\u001b[0m, \u001b[38;5;34m14\u001b[0m, \u001b[38;5;34m14\u001b[0m, \u001b[38;5;34m32\u001b[0m)          │               \u001b[38;5;34m0\u001b[0m │\n",
              "├──────────────────────────────────────┼─────────────────────────────┼─────────────────┤\n",
              "│ conv2d_1 (\u001b[38;5;33mConv2D\u001b[0m)                    │ (\u001b[38;5;45mNone\u001b[0m, \u001b[38;5;34m14\u001b[0m, \u001b[38;5;34m14\u001b[0m, \u001b[38;5;34m64\u001b[0m)          │          \u001b[38;5;34m18,496\u001b[0m │\n",
              "├──────────────────────────────────────┼─────────────────────────────┼─────────────────┤\n",
              "│ max_pooling2d_1 (\u001b[38;5;33mMaxPooling2D\u001b[0m)       │ (\u001b[38;5;45mNone\u001b[0m, \u001b[38;5;34m7\u001b[0m, \u001b[38;5;34m7\u001b[0m, \u001b[38;5;34m64\u001b[0m)            │               \u001b[38;5;34m0\u001b[0m │\n",
              "├──────────────────────────────────────┼─────────────────────────────┼─────────────────┤\n",
              "│ flatten_2 (\u001b[38;5;33mFlatten\u001b[0m)                  │ (\u001b[38;5;45mNone\u001b[0m, \u001b[38;5;34m3136\u001b[0m)                │               \u001b[38;5;34m0\u001b[0m │\n",
              "├──────────────────────────────────────┼─────────────────────────────┼─────────────────┤\n",
              "│ dense_9 (\u001b[38;5;33mDense\u001b[0m)                      │ (\u001b[38;5;45mNone\u001b[0m, \u001b[38;5;34m64\u001b[0m)                  │         \u001b[38;5;34m200,768\u001b[0m │\n",
              "├──────────────────────────────────────┼─────────────────────────────┼─────────────────┤\n",
              "│ dense_10 (\u001b[38;5;33mDense\u001b[0m)                     │ (\u001b[38;5;45mNone\u001b[0m, \u001b[38;5;34m10\u001b[0m)                  │             \u001b[38;5;34m650\u001b[0m │\n",
              "└──────────────────────────────────────┴─────────────────────────────┴─────────────────┘\n"
            ],
            "text/html": [
              "<pre style=\"white-space:pre;overflow-x:auto;line-height:normal;font-family:Menlo,'DejaVu Sans Mono',consolas,'Courier New',monospace\">┏━━━━━━━━━━━━━━━━━━━━━━━━━━━━━━━━━━━━━━┳━━━━━━━━━━━━━━━━━━━━━━━━━━━━━┳━━━━━━━━━━━━━━━━━┓\n",
              "┃<span style=\"font-weight: bold\"> Layer (type)                         </span>┃<span style=\"font-weight: bold\"> Output Shape                </span>┃<span style=\"font-weight: bold\">         Param # </span>┃\n",
              "┡━━━━━━━━━━━━━━━━━━━━━━━━━━━━━━━━━━━━━━╇━━━━━━━━━━━━━━━━━━━━━━━━━━━━━╇━━━━━━━━━━━━━━━━━┩\n",
              "│ conv2d (<span style=\"color: #0087ff; text-decoration-color: #0087ff\">Conv2D</span>)                      │ (<span style=\"color: #00d7ff; text-decoration-color: #00d7ff\">None</span>, <span style=\"color: #00af00; text-decoration-color: #00af00\">28</span>, <span style=\"color: #00af00; text-decoration-color: #00af00\">28</span>, <span style=\"color: #00af00; text-decoration-color: #00af00\">32</span>)          │             <span style=\"color: #00af00; text-decoration-color: #00af00\">320</span> │\n",
              "├──────────────────────────────────────┼─────────────────────────────┼─────────────────┤\n",
              "│ max_pooling2d (<span style=\"color: #0087ff; text-decoration-color: #0087ff\">MaxPooling2D</span>)         │ (<span style=\"color: #00d7ff; text-decoration-color: #00d7ff\">None</span>, <span style=\"color: #00af00; text-decoration-color: #00af00\">14</span>, <span style=\"color: #00af00; text-decoration-color: #00af00\">14</span>, <span style=\"color: #00af00; text-decoration-color: #00af00\">32</span>)          │               <span style=\"color: #00af00; text-decoration-color: #00af00\">0</span> │\n",
              "├──────────────────────────────────────┼─────────────────────────────┼─────────────────┤\n",
              "│ conv2d_1 (<span style=\"color: #0087ff; text-decoration-color: #0087ff\">Conv2D</span>)                    │ (<span style=\"color: #00d7ff; text-decoration-color: #00d7ff\">None</span>, <span style=\"color: #00af00; text-decoration-color: #00af00\">14</span>, <span style=\"color: #00af00; text-decoration-color: #00af00\">14</span>, <span style=\"color: #00af00; text-decoration-color: #00af00\">64</span>)          │          <span style=\"color: #00af00; text-decoration-color: #00af00\">18,496</span> │\n",
              "├──────────────────────────────────────┼─────────────────────────────┼─────────────────┤\n",
              "│ max_pooling2d_1 (<span style=\"color: #0087ff; text-decoration-color: #0087ff\">MaxPooling2D</span>)       │ (<span style=\"color: #00d7ff; text-decoration-color: #00d7ff\">None</span>, <span style=\"color: #00af00; text-decoration-color: #00af00\">7</span>, <span style=\"color: #00af00; text-decoration-color: #00af00\">7</span>, <span style=\"color: #00af00; text-decoration-color: #00af00\">64</span>)            │               <span style=\"color: #00af00; text-decoration-color: #00af00\">0</span> │\n",
              "├──────────────────────────────────────┼─────────────────────────────┼─────────────────┤\n",
              "│ flatten_2 (<span style=\"color: #0087ff; text-decoration-color: #0087ff\">Flatten</span>)                  │ (<span style=\"color: #00d7ff; text-decoration-color: #00d7ff\">None</span>, <span style=\"color: #00af00; text-decoration-color: #00af00\">3136</span>)                │               <span style=\"color: #00af00; text-decoration-color: #00af00\">0</span> │\n",
              "├──────────────────────────────────────┼─────────────────────────────┼─────────────────┤\n",
              "│ dense_9 (<span style=\"color: #0087ff; text-decoration-color: #0087ff\">Dense</span>)                      │ (<span style=\"color: #00d7ff; text-decoration-color: #00d7ff\">None</span>, <span style=\"color: #00af00; text-decoration-color: #00af00\">64</span>)                  │         <span style=\"color: #00af00; text-decoration-color: #00af00\">200,768</span> │\n",
              "├──────────────────────────────────────┼─────────────────────────────┼─────────────────┤\n",
              "│ dense_10 (<span style=\"color: #0087ff; text-decoration-color: #0087ff\">Dense</span>)                     │ (<span style=\"color: #00d7ff; text-decoration-color: #00d7ff\">None</span>, <span style=\"color: #00af00; text-decoration-color: #00af00\">10</span>)                  │             <span style=\"color: #00af00; text-decoration-color: #00af00\">650</span> │\n",
              "└──────────────────────────────────────┴─────────────────────────────┴─────────────────┘\n",
              "</pre>\n"
            ]
          },
          "metadata": {}
        },
        {
          "output_type": "display_data",
          "data": {
            "text/plain": [
              "\u001b[1m Total params: \u001b[0m\u001b[38;5;34m220,234\u001b[0m (860.29 KB)\n"
            ],
            "text/html": [
              "<pre style=\"white-space:pre;overflow-x:auto;line-height:normal;font-family:Menlo,'DejaVu Sans Mono',consolas,'Courier New',monospace\"><span style=\"font-weight: bold\"> Total params: </span><span style=\"color: #00af00; text-decoration-color: #00af00\">220,234</span> (860.29 KB)\n",
              "</pre>\n"
            ]
          },
          "metadata": {}
        },
        {
          "output_type": "display_data",
          "data": {
            "text/plain": [
              "\u001b[1m Trainable params: \u001b[0m\u001b[38;5;34m220,234\u001b[0m (860.29 KB)\n"
            ],
            "text/html": [
              "<pre style=\"white-space:pre;overflow-x:auto;line-height:normal;font-family:Menlo,'DejaVu Sans Mono',consolas,'Courier New',monospace\"><span style=\"font-weight: bold\"> Trainable params: </span><span style=\"color: #00af00; text-decoration-color: #00af00\">220,234</span> (860.29 KB)\n",
              "</pre>\n"
            ]
          },
          "metadata": {}
        },
        {
          "output_type": "display_data",
          "data": {
            "text/plain": [
              "\u001b[1m Non-trainable params: \u001b[0m\u001b[38;5;34m0\u001b[0m (0.00 B)\n"
            ],
            "text/html": [
              "<pre style=\"white-space:pre;overflow-x:auto;line-height:normal;font-family:Menlo,'DejaVu Sans Mono',consolas,'Courier New',monospace\"><span style=\"font-weight: bold\"> Non-trainable params: </span><span style=\"color: #00af00; text-decoration-color: #00af00\">0</span> (0.00 B)\n",
              "</pre>\n"
            ]
          },
          "metadata": {}
        }
      ],
      "source": [
        "from tensorflow.keras.models import Sequential\n",
        "from tensorflow.keras.layers import Conv2D, MaxPooling2D, Flatten, Dense, Dropout\n",
        "\n",
        "model = Sequential()\n",
        "model.add(Conv2D(32, kernel_size=(3, 3), strides=1, padding='same', activation='relu', input_shape=(28, 28, 1)))\n",
        "model.add(MaxPooling2D(pool_size=(2, 2)))\n",
        "model.add(Conv2D(64, (3, 3), strides=1, padding='same', activation='relu'))\n",
        "model.add(MaxPooling2D(pool_size=(2, 2)))\n",
        "model.add(Flatten())\n",
        "model.add(Dense(64, activation='relu'))\n",
        "model.add(Dense(10, activation='softmax'))\n",
        "model.summary()"
      ]
    },
    {
      "cell_type": "markdown",
      "id": "9d5253df-fdc2-4331-b810-f2298fa0bf35",
      "metadata": {
        "id": "9d5253df-fdc2-4331-b810-f2298fa0bf35"
      },
      "source": [
        "* **Line 4**: CNN 모델을 빌드한다.\n",
        "* **Line 5**: `CONV_1`- convolutional layer 를 추가, `ReLU` activation 사용,  `depth = 32` kernel 을 추가\n",
        "* **Line 6**: `POOL_1` - Downsamples을 위한 pooling layer를 추기\n",
        "* **Line 7**: `CONV_2` - depth를 64로 증가\n",
        "* **Line 8**: `POOL_2`- downsampling 추가\n",
        "* **Line 9**: `Flatten` - Fully Connected layer에 feature 를 전달하기 위해 flatten 진행\n",
        "* **Line 10**: `FC_1` - 모든 feature를 받는 mlp layer 의 첫단\n",
        "* **Line 11**: `FC_2` - 10개의 출력 결과를 확인하기 위해 10개의 노드를 추가하고 확률값을 얻기 위해 softmax 함수를 사용\n",
        "<center><img src=https://www.dropbox.com/s/t3a1ei1jvgbezl4/Figure_03_softmax_output.PNG?dl=1></center>\n",
        "* **Line 12**: model architecture summary"
      ]
    },
    {
      "cell_type": "code",
      "execution_count": null,
      "id": "0f1cd596-e0dc-4b6e-a648-0e75f3f7f256",
      "metadata": {
        "id": "0f1cd596-e0dc-4b6e-a648-0e75f3f7f256"
      },
      "outputs": [],
      "source": []
    },
    {
      "cell_type": "markdown",
      "id": "b7b1260a-1000-41f4-a97b-e2f7cc9ef1b1",
      "metadata": {
        "id": "b7b1260a-1000-41f4-a97b-e2f7cc9ef1b1"
      },
      "source": [
        "<center><img src=https://www.dropbox.com/s/9bh97hnust4e4r5/Figure_03_27.PNG?dl=1><h5></h5></center>"
      ]
    },
    {
      "cell_type": "code",
      "execution_count": null,
      "id": "3a3e7595-63a3-4c7d-8067-0d5e08e1b2d3",
      "metadata": {
        "id": "3a3e7595-63a3-4c7d-8067-0d5e08e1b2d3"
      },
      "outputs": [],
      "source": []
    },
    {
      "cell_type": "code",
      "execution_count": null,
      "id": "dd5dd06e-c0e7-40f6-b440-3eb4f9502dcb",
      "metadata": {
        "id": "dd5dd06e-c0e7-40f6-b440-3eb4f9502dcb"
      },
      "outputs": [],
      "source": []
    },
    {
      "cell_type": "code",
      "execution_count": null,
      "id": "f093046f-f195-4973-9069-d2d40e306b35",
      "metadata": {
        "id": "f093046f-f195-4973-9069-d2d40e306b35",
        "colab": {
          "base_uri": "https://localhost:8080/",
          "height": 388
        },
        "outputId": "431b1c7d-1b0c-4e64-8e8c-d5d80637823a"
      },
      "outputs": [
        {
          "output_type": "stream",
          "name": "stdout",
          "text": [
            "Downloading data from https://www.cs.toronto.edu/~kriz/cifar-10-python.tar.gz\n",
            "\u001b[1m170498071/170498071\u001b[0m \u001b[32m━━━━━━━━━━━━━━━━━━━━\u001b[0m\u001b[37m\u001b[0m \u001b[1m11s\u001b[0m 0us/step\n"
          ]
        },
        {
          "output_type": "display_data",
          "data": {
            "text/plain": [
              "<Figure size 2000x500 with 36 Axes>"
            ],
            "image/png": "[encoded data removed]"
          },
          "metadata": {}
        }
      ],
      "source": [
        "from tensorflow.keras.datasets import cifar10\n",
        "\n",
        "(x_train, y_train), (x_test, y_test) = cifar10.load_data()\n",
        "\n",
        "import numpy as np\n",
        "import matplotlib.pyplot as plt\n",
        "\n",
        "%matplotlib inline\n",
        "fig = plt.figure(figsize=(20,5))\n",
        "for i in range(36):\n",
        "    ax = fig.add_subplot(3, 12, i + 1, xticks=[], yticks=[])\n",
        "    ax.imshow(np.squeeze(x_train[i]))"
      ]
    },
    {
      "cell_type": "code",
      "execution_count": null,
      "id": "116cb3a9-f35c-4633-b2bb-87998dc56ffc",
      "metadata": {
        "id": "116cb3a9-f35c-4633-b2bb-87998dc56ffc"
      },
      "outputs": [],
      "source": [
        "x_train = x_train.astype('float32')/255\n",
        "x_test = x_test.astype('float32')/255"
      ]
    },
    {
      "cell_type": "code",
      "source": [
        "\n",
        "from tensorflow.keras.utils import to_categorical\n",
        "\n",
        "# one-hot encode the labels\n",
        "num_classes = len(np.unique(y_train))\n",
        "y_train = to_categorical(y_train, num_classes)\n",
        "y_test = to_categorical(y_test, num_classes)"
      ],
      "metadata": {
        "id": "p1oxyCJ-bjz5"
      },
      "id": "p1oxyCJ-bjz5",
      "execution_count": null,
      "outputs": []
    },
    {
      "cell_type": "code",
      "execution_count": null,
      "id": "dcb0e9cc-e419-4d25-a3a2-bd9288e40b90",
      "metadata": {
        "id": "dcb0e9cc-e419-4d25-a3a2-bd9288e40b90",
        "colab": {
          "base_uri": "https://localhost:8080/"
        },
        "outputId": "8c8463ea-a230-49c8-b6de-52612789016d"
      },
      "outputs": [
        {
          "output_type": "stream",
          "name": "stdout",
          "text": [
            "x_train shape: (45000, 32, 32, 3)\n",
            "45000 train samples\n",
            "10000 test samples\n",
            "5000 validation samples\n"
          ]
        }
      ],
      "source": [
        "(x_train, x_valid) = x_train[5000:], x_train[:5000]\n",
        "(y_train, y_valid) = y_train[5000:], y_train[:5000]\n",
        "print('x_train shape:', x_train.shape)\n",
        "print(x_train.shape[0], 'train samples')\n",
        "print(x_test.shape[0], 'test samples')\n",
        "print(x_valid.shape[0], 'validation samples')"
      ]
    },
    {
      "cell_type": "code",
      "execution_count": null,
      "id": "9478e4fa-4618-443d-a845-4f1b047472a2",
      "metadata": {
        "id": "9478e4fa-4618-443d-a845-4f1b047472a2",
        "colab": {
          "base_uri": "https://localhost:8080/",
          "height": 430
        },
        "outputId": "717a97ba-205a-4d73-9252-15bf6dd23647"
      },
      "outputs": [
        {
          "output_type": "display_data",
          "data": {
            "text/plain": [
              "\u001b[1mModel: \"sequential_3\"\u001b[0m\n"
            ],
            "text/html": [
              "<pre style=\"white-space:pre;overflow-x:auto;line-height:normal;font-family:Menlo,'DejaVu Sans Mono',consolas,'Courier New',monospace\"><span style=\"font-weight: bold\">Model: \"sequential_3\"</span>\n",
              "</pre>\n"
            ]
          },
          "metadata": {}
        },
        {
          "output_type": "display_data",
          "data": {
            "text/plain": [
              "┏━━━━━━━━━━━━━━━━━━━━━━━━━━━━━━━━━━━━━━┳━━━━━━━━━━━━━━━━━━━━━━━━━━━━━┳━━━━━━━━━━━━━━━━━┓\n",
              "┃\u001b[1m \u001b[0m\u001b[1mLayer (type)                        \u001b[0m\u001b[1m \u001b[0m┃\u001b[1m \u001b[0m\u001b[1mOutput Shape               \u001b[0m\u001b[1m \u001b[0m┃\u001b[1m \u001b[0m\u001b[1m        Param #\u001b[0m\u001b[1m \u001b[0m┃\n",
              "┡━━━━━━━━━━━━━━━━━━━━━━━━━━━━━━━━━━━━━━╇━━━━━━━━━━━━━━━━━━━━━━━━━━━━━╇━━━━━━━━━━━━━━━━━┩\n",
              "│ conv2d_2 (\u001b[38;5;33mConv2D\u001b[0m)                    │ (\u001b[38;5;45mNone\u001b[0m, \u001b[38;5;34m32\u001b[0m, \u001b[38;5;34m32\u001b[0m, \u001b[38;5;34m16\u001b[0m)          │             \u001b[38;5;34m208\u001b[0m │\n",
              "├──────────────────────────────────────┼─────────────────────────────┼─────────────────┤\n",
              "│ max_pooling2d_2 (\u001b[38;5;33mMaxPooling2D\u001b[0m)       │ (\u001b[38;5;45mNone\u001b[0m, \u001b[38;5;34m16\u001b[0m, \u001b[38;5;34m16\u001b[0m, \u001b[38;5;34m16\u001b[0m)          │               \u001b[38;5;34m0\u001b[0m │\n",
              "├──────────────────────────────────────┼─────────────────────────────┼─────────────────┤\n",
              "│ conv2d_3 (\u001b[38;5;33mConv2D\u001b[0m)                    │ (\u001b[38;5;45mNone\u001b[0m, \u001b[38;5;34m16\u001b[0m, \u001b[38;5;34m16\u001b[0m, \u001b[38;5;34m32\u001b[0m)          │           \u001b[38;5;34m2,080\u001b[0m │\n",
              "├──────────────────────────────────────┼─────────────────────────────┼─────────────────┤\n",
              "│ max_pooling2d_3 (\u001b[38;5;33mMaxPooling2D\u001b[0m)       │ (\u001b[38;5;45mNone\u001b[0m, \u001b[38;5;34m8\u001b[0m, \u001b[38;5;34m8\u001b[0m, \u001b[38;5;34m32\u001b[0m)            │               \u001b[38;5;34m0\u001b[0m │\n",
              "├──────────────────────────────────────┼─────────────────────────────┼─────────────────┤\n",
              "│ conv2d_4 (\u001b[38;5;33mConv2D\u001b[0m)                    │ (\u001b[38;5;45mNone\u001b[0m, \u001b[38;5;34m8\u001b[0m, \u001b[38;5;34m8\u001b[0m, \u001b[38;5;34m64\u001b[0m)            │           \u001b[38;5;34m8,256\u001b[0m │\n",
              "├──────────────────────────────────────┼─────────────────────────────┼─────────────────┤\n",
              "│ max_pooling2d_4 (\u001b[38;5;33mMaxPooling2D\u001b[0m)       │ (\u001b[38;5;45mNone\u001b[0m, \u001b[38;5;34m4\u001b[0m, \u001b[38;5;34m4\u001b[0m, \u001b[38;5;34m64\u001b[0m)            │               \u001b[38;5;34m0\u001b[0m │\n",
              "├──────────────────────────────────────┼─────────────────────────────┼─────────────────┤\n",
              "│ flatten_3 (\u001b[38;5;33mFlatten\u001b[0m)                  │ (\u001b[38;5;45mNone\u001b[0m, \u001b[38;5;34m1024\u001b[0m)                │               \u001b[38;5;34m0\u001b[0m │\n",
              "├──────────────────────────────────────┼─────────────────────────────┼─────────────────┤\n",
              "│ dense_11 (\u001b[38;5;33mDense\u001b[0m)                     │ (\u001b[38;5;45mNone\u001b[0m, \u001b[38;5;34m500\u001b[0m)                 │         \u001b[38;5;34m512,500\u001b[0m │\n",
              "├──────────────────────────────────────┼─────────────────────────────┼─────────────────┤\n",
              "│ dense_12 (\u001b[38;5;33mDense\u001b[0m)                     │ (\u001b[38;5;45mNone\u001b[0m, \u001b[38;5;34m10\u001b[0m)                  │           \u001b[38;5;34m5,010\u001b[0m │\n",
              "└──────────────────────────────────────┴─────────────────────────────┴─────────────────┘\n"
            ],
            "text/html": [
              "<pre style=\"white-space:pre;overflow-x:auto;line-height:normal;font-family:Menlo,'DejaVu Sans Mono',consolas,'Courier New',monospace\">┏━━━━━━━━━━━━━━━━━━━━━━━━━━━━━━━━━━━━━━┳━━━━━━━━━━━━━━━━━━━━━━━━━━━━━┳━━━━━━━━━━━━━━━━━┓\n",
              "┃<span style=\"font-weight: bold\"> Layer (type)                         </span>┃<span style=\"font-weight: bold\"> Output Shape                </span>┃<span style=\"font-weight: bold\">         Param # </span>┃\n",
              "┡━━━━━━━━━━━━━━━━━━━━━━━━━━━━━━━━━━━━━━╇━━━━━━━━━━━━━━━━━━━━━━━━━━━━━╇━━━━━━━━━━━━━━━━━┩\n",
              "│ conv2d_2 (<span style=\"color: #0087ff; text-decoration-color: #0087ff\">Conv2D</span>)                    │ (<span style=\"color: #00d7ff; text-decoration-color: #00d7ff\">None</span>, <span style=\"color: #00af00; text-decoration-color: #00af00\">32</span>, <span style=\"color: #00af00; text-decoration-color: #00af00\">32</span>, <span style=\"color: #00af00; text-decoration-color: #00af00\">16</span>)          │             <span style=\"color: #00af00; text-decoration-color: #00af00\">208</span> │\n",
              "├──────────────────────────────────────┼─────────────────────────────┼─────────────────┤\n",
              "│ max_pooling2d_2 (<span style=\"color: #0087ff; text-decoration-color: #0087ff\">MaxPooling2D</span>)       │ (<span style=\"color: #00d7ff; text-decoration-color: #00d7ff\">None</span>, <span style=\"color: #00af00; text-decoration-color: #00af00\">16</span>, <span style=\"color: #00af00; text-decoration-color: #00af00\">16</span>, <span style=\"color: #00af00; text-decoration-color: #00af00\">16</span>)          │               <span style=\"color: #00af00; text-decoration-color: #00af00\">0</span> │\n",
              "├──────────────────────────────────────┼─────────────────────────────┼─────────────────┤\n",
              "│ conv2d_3 (<span style=\"color: #0087ff; text-decoration-color: #0087ff\">Conv2D</span>)                    │ (<span style=\"color: #00d7ff; text-decoration-color: #00d7ff\">None</span>, <span style=\"color: #00af00; text-decoration-color: #00af00\">16</span>, <span style=\"color: #00af00; text-decoration-color: #00af00\">16</span>, <span style=\"color: #00af00; text-decoration-color: #00af00\">32</span>)          │           <span style=\"color: #00af00; text-decoration-color: #00af00\">2,080</span> │\n",
              "├──────────────────────────────────────┼─────────────────────────────┼─────────────────┤\n",
              "│ max_pooling2d_3 (<span style=\"color: #0087ff; text-decoration-color: #0087ff\">MaxPooling2D</span>)       │ (<span style=\"color: #00d7ff; text-decoration-color: #00d7ff\">None</span>, <span style=\"color: #00af00; text-decoration-color: #00af00\">8</span>, <span style=\"color: #00af00; text-decoration-color: #00af00\">8</span>, <span style=\"color: #00af00; text-decoration-color: #00af00\">32</span>)            │               <span style=\"color: #00af00; text-decoration-color: #00af00\">0</span> │\n",
              "├──────────────────────────────────────┼─────────────────────────────┼─────────────────┤\n",
              "│ conv2d_4 (<span style=\"color: #0087ff; text-decoration-color: #0087ff\">Conv2D</span>)                    │ (<span style=\"color: #00d7ff; text-decoration-color: #00d7ff\">None</span>, <span style=\"color: #00af00; text-decoration-color: #00af00\">8</span>, <span style=\"color: #00af00; text-decoration-color: #00af00\">8</span>, <span style=\"color: #00af00; text-decoration-color: #00af00\">64</span>)            │           <span style=\"color: #00af00; text-decoration-color: #00af00\">8,256</span> │\n",
              "├──────────────────────────────────────┼─────────────────────────────┼─────────────────┤\n",
              "│ max_pooling2d_4 (<span style=\"color: #0087ff; text-decoration-color: #0087ff\">MaxPooling2D</span>)       │ (<span style=\"color: #00d7ff; text-decoration-color: #00d7ff\">None</span>, <span style=\"color: #00af00; text-decoration-color: #00af00\">4</span>, <span style=\"color: #00af00; text-decoration-color: #00af00\">4</span>, <span style=\"color: #00af00; text-decoration-color: #00af00\">64</span>)            │               <span style=\"color: #00af00; text-decoration-color: #00af00\">0</span> │\n",
              "├──────────────────────────────────────┼─────────────────────────────┼─────────────────┤\n",
              "│ flatten_3 (<span style=\"color: #0087ff; text-decoration-color: #0087ff\">Flatten</span>)                  │ (<span style=\"color: #00d7ff; text-decoration-color: #00d7ff\">None</span>, <span style=\"color: #00af00; text-decoration-color: #00af00\">1024</span>)                │               <span style=\"color: #00af00; text-decoration-color: #00af00\">0</span> │\n",
              "├──────────────────────────────────────┼─────────────────────────────┼─────────────────┤\n",
              "│ dense_11 (<span style=\"color: #0087ff; text-decoration-color: #0087ff\">Dense</span>)                     │ (<span style=\"color: #00d7ff; text-decoration-color: #00d7ff\">None</span>, <span style=\"color: #00af00; text-decoration-color: #00af00\">500</span>)                 │         <span style=\"color: #00af00; text-decoration-color: #00af00\">512,500</span> │\n",
              "├──────────────────────────────────────┼─────────────────────────────┼─────────────────┤\n",
              "│ dense_12 (<span style=\"color: #0087ff; text-decoration-color: #0087ff\">Dense</span>)                     │ (<span style=\"color: #00d7ff; text-decoration-color: #00d7ff\">None</span>, <span style=\"color: #00af00; text-decoration-color: #00af00\">10</span>)                  │           <span style=\"color: #00af00; text-decoration-color: #00af00\">5,010</span> │\n",
              "└──────────────────────────────────────┴─────────────────────────────┴─────────────────┘\n",
              "</pre>\n"
            ]
          },
          "metadata": {}
        },
        {
          "output_type": "display_data",
          "data": {
            "text/plain": [
              "\u001b[1m Total params: \u001b[0m\u001b[38;5;34m528,054\u001b[0m (2.01 MB)\n"
            ],
            "text/html": [
              "<pre style=\"white-space:pre;overflow-x:auto;line-height:normal;font-family:Menlo,'DejaVu Sans Mono',consolas,'Courier New',monospace\"><span style=\"font-weight: bold\"> Total params: </span><span style=\"color: #00af00; text-decoration-color: #00af00\">528,054</span> (2.01 MB)\n",
              "</pre>\n"
            ]
          },
          "metadata": {}
        },
        {
          "output_type": "display_data",
          "data": {
            "text/plain": [
              "\u001b[1m Trainable params: \u001b[0m\u001b[38;5;34m528,054\u001b[0m (2.01 MB)\n"
            ],
            "text/html": [
              "<pre style=\"white-space:pre;overflow-x:auto;line-height:normal;font-family:Menlo,'DejaVu Sans Mono',consolas,'Courier New',monospace\"><span style=\"font-weight: bold\"> Trainable params: </span><span style=\"color: #00af00; text-decoration-color: #00af00\">528,054</span> (2.01 MB)\n",
              "</pre>\n"
            ]
          },
          "metadata": {}
        },
        {
          "output_type": "display_data",
          "data": {
            "text/plain": [
              "\u001b[1m Non-trainable params: \u001b[0m\u001b[38;5;34m0\u001b[0m (0.00 B)\n"
            ],
            "text/html": [
              "<pre style=\"white-space:pre;overflow-x:auto;line-height:normal;font-family:Menlo,'DejaVu Sans Mono',consolas,'Courier New',monospace\"><span style=\"font-weight: bold\"> Non-trainable params: </span><span style=\"color: #00af00; text-decoration-color: #00af00\">0</span> (0.00 B)\n",
              "</pre>\n"
            ]
          },
          "metadata": {}
        }
      ],
      "source": [
        "from tensorflow.keras.models import Sequential\n",
        "from tensorflow.keras.layers import Conv2D, MaxPooling2D, Flatten, Dense, Dropout\n",
        "\n",
        "model = Sequential()\n",
        "model.add(Conv2D(filters=16, kernel_size=2, padding='same', activation='relu', input_shape=(32, 32, 3)))\n",
        "model.add(MaxPooling2D(pool_size=2))\n",
        "model.add(Conv2D(filters=32, kernel_size=2, padding='same', activation='relu'))\n",
        "model.add(MaxPooling2D(pool_size=2))\n",
        "model.add(Conv2D(filters=64, kernel_size=2, padding='same', activation='relu'))\n",
        "model.add(MaxPooling2D(pool_size=2))\n",
        "model.add(Flatten())\n",
        "model.add(Dense(500, activation='relu'))\n",
        "model.add(Dense(10, activation='softmax'))\n",
        "model.summary()"
      ]
    },
    {
      "cell_type": "code",
      "execution_count": null,
      "id": "018b013c-8113-4a6b-bcd9-c9146eedd198",
      "metadata": {
        "id": "018b013c-8113-4a6b-bcd9-c9146eedd198"
      },
      "outputs": [],
      "source": [
        "model.compile(loss='categorical_crossentropy', optimizer='adam', metrics=['accuracy'])"
      ]
    },
    {
      "cell_type": "code",
      "execution_count": null,
      "id": "03419de2-4318-4723-a022-66b2d0c3b893",
      "metadata": {
        "id": "03419de2-4318-4723-a022-66b2d0c3b893"
      },
      "outputs": [],
      "source": []
    },
    {
      "cell_type": "code",
      "execution_count": null,
      "id": "6eb2cdf9-ea56-463e-9ad4-bb17fccdff62",
      "metadata": {
        "id": "6eb2cdf9-ea56-463e-9ad4-bb17fccdff62",
        "colab": {
          "base_uri": "https://localhost:8080/",
          "height": 561
        },
        "outputId": "0e0396b5-dd48-4d13-909f-91e938c86790"
      },
      "outputs": [
        {
          "output_type": "stream",
          "name": "stdout",
          "text": [
            "Epoch 1/10\n",
            "1407/1407 - 46s - 32ms/step - accuracy: 0.4709 - loss: 1.4679 - val_accuracy: 0.5752 - val_loss: 1.1983\n",
            "Epoch 2/10\n",
            "1407/1407 - 44s - 32ms/step - accuracy: 0.6062 - loss: 1.1099 - val_accuracy: 0.6310 - val_loss: 1.0459\n",
            "Epoch 3/10\n",
            "1407/1407 - 82s - 59ms/step - accuracy: 0.6629 - loss: 0.9551 - val_accuracy: 0.6538 - val_loss: 0.9799\n",
            "Epoch 4/10\n",
            "1407/1407 - 41s - 29ms/step - accuracy: 0.7029 - loss: 0.8405 - val_accuracy: 0.6810 - val_loss: 0.9308\n",
            "Epoch 5/10\n",
            "1407/1407 - 84s - 60ms/step - accuracy: 0.7374 - loss: 0.7465 - val_accuracy: 0.6926 - val_loss: 0.8850\n",
            "Epoch 6/10\n",
            "1407/1407 - 80s - 57ms/step - accuracy: 0.7681 - loss: 0.6567 - val_accuracy: 0.6994 - val_loss: 0.8681\n",
            "Epoch 7/10\n",
            "1407/1407 - 83s - 59ms/step - accuracy: 0.7956 - loss: 0.5761 - val_accuracy: 0.7072 - val_loss: 0.8715\n",
            "Epoch 8/10\n"
          ]
        },
        {
          "output_type": "error",
          "ename": "KeyboardInterrupt",
          "evalue": "",
          "traceback": [
            "\u001b[0;31m---------------------------------------------------------------------------\u001b[0m",
            "\u001b[0;31mKeyboardInterrupt\u001b[0m                         Traceback (most recent call last)",
            "\u001b[0;32m<ipython-input-36-01f1b755b59d>\u001b[0m in \u001b[0;36m<cell line: 0>\u001b[0;34m()\u001b[0m\n\u001b[0;32m----> 1\u001b[0;31m \u001b[0mhist\u001b[0m \u001b[0;34m=\u001b[0m \u001b[0mmodel\u001b[0m\u001b[0;34m.\u001b[0m\u001b[0mfit\u001b[0m\u001b[0;34m(\u001b[0m\u001b[0mx_train\u001b[0m\u001b[0;34m,\u001b[0m \u001b[0my_train\u001b[0m\u001b[0;34m,\u001b[0m \u001b[0mbatch_size\u001b[0m\u001b[0;34m=\u001b[0m\u001b[0;36m32\u001b[0m\u001b[0;34m,\u001b[0m \u001b[0mepochs\u001b[0m\u001b[0;34m=\u001b[0m\u001b[0;36m10\u001b[0m\u001b[0;34m,\u001b[0m \u001b[0mvalidation_data\u001b[0m\u001b[0;34m=\u001b[0m\u001b[0;34m(\u001b[0m\u001b[0mx_valid\u001b[0m\u001b[0;34m,\u001b[0m \u001b[0my_valid\u001b[0m\u001b[0;34m)\u001b[0m\u001b[0;34m,\u001b[0m \u001b[0mverbose\u001b[0m\u001b[0;34m=\u001b[0m\u001b[0;36m2\u001b[0m\u001b[0;34m,\u001b[0m \u001b[0mshuffle\u001b[0m\u001b[0;34m=\u001b[0m\u001b[0;32mTrue\u001b[0m\u001b[0;34m)\u001b[0m\u001b[0;34m\u001b[0m\u001b[0;34m\u001b[0m\u001b[0m\n\u001b[0m",
            "\u001b[0;32m/usr/local/lib/python3.11/dist-packages/keras/src/utils/traceback_utils.py\u001b[0m in \u001b[0;36merror_handler\u001b[0;34m(*args, **kwargs)\u001b[0m\n\u001b[1;32m    115\u001b[0m         \u001b[0mfiltered_tb\u001b[0m \u001b[0;34m=\u001b[0m \u001b[0;32mNone\u001b[0m\u001b[0;34m\u001b[0m\u001b[0;34m\u001b[0m\u001b[0m\n\u001b[1;32m    116\u001b[0m         \u001b[0;32mtry\u001b[0m\u001b[0;34m:\u001b[0m\u001b[0;34m\u001b[0m\u001b[0;34m\u001b[0m\u001b[0m\n\u001b[0;32m--> 117\u001b[0;31m             \u001b[0;32mreturn\u001b[0m \u001b[0mfn\u001b[0m\u001b[0;34m(\u001b[0m\u001b[0;34m*\u001b[0m\u001b[0margs\u001b[0m\u001b[0;34m,\u001b[0m \u001b[0;34m**\u001b[0m\u001b[0mkwargs\u001b[0m\u001b[0;34m)\u001b[0m\u001b[0;34m\u001b[0m\u001b[0;34m\u001b[0m\u001b[0m\n\u001b[0m\u001b[1;32m    118\u001b[0m         \u001b[0;32mexcept\u001b[0m \u001b[0mException\u001b[0m \u001b[0;32mas\u001b[0m \u001b[0me\u001b[0m\u001b[0;34m:\u001b[0m\u001b[0;34m\u001b[0m\u001b[0;34m\u001b[0m\u001b[0m\n\u001b[1;32m    119\u001b[0m             \u001b[0mfiltered_tb\u001b[0m \u001b[0;34m=\u001b[0m \u001b[0m_process_traceback_frames\u001b[0m\u001b[0;34m(\u001b[0m\u001b[0me\u001b[0m\u001b[0;34m.\u001b[0m\u001b[0m__traceback__\u001b[0m\u001b[0;34m)\u001b[0m\u001b[0;34m\u001b[0m\u001b[0;34m\u001b[0m\u001b[0m\n",
            "\u001b[0;32m/usr/local/lib/python3.11/dist-packages/keras/src/backend/tensorflow/trainer.py\u001b[0m in \u001b[0;36mfit\u001b[0;34m(self, x, y, batch_size, epochs, verbose, callbacks, validation_split, validation_data, shuffle, class_weight, sample_weight, initial_epoch, steps_per_epoch, validation_steps, validation_batch_size, validation_freq)\u001b[0m\n\u001b[1;32m    369\u001b[0m                 \u001b[0;32mfor\u001b[0m \u001b[0mstep\u001b[0m\u001b[0;34m,\u001b[0m \u001b[0miterator\u001b[0m \u001b[0;32min\u001b[0m \u001b[0mepoch_iterator\u001b[0m\u001b[0;34m:\u001b[0m\u001b[0;34m\u001b[0m\u001b[0;34m\u001b[0m\u001b[0m\n\u001b[1;32m    370\u001b[0m                     \u001b[0mcallbacks\u001b[0m\u001b[0;34m.\u001b[0m\u001b[0mon_train_batch_begin\u001b[0m\u001b[0;34m(\u001b[0m\u001b[0mstep\u001b[0m\u001b[0;34m)\u001b[0m\u001b[0;34m\u001b[0m\u001b[0;34m\u001b[0m\u001b[0m\n\u001b[0;32m--> 371\u001b[0;31m                     \u001b[0mlogs\u001b[0m \u001b[0;34m=\u001b[0m \u001b[0mself\u001b[0m\u001b[0;34m.\u001b[0m\u001b[0mtrain_function\u001b[0m\u001b[0;34m(\u001b[0m\u001b[0miterator\u001b[0m\u001b[0;34m)\u001b[0m\u001b[0;34m\u001b[0m\u001b[0;34m\u001b[0m\u001b[0m\n\u001b[0m\u001b[1;32m    372\u001b[0m                     \u001b[0mcallbacks\u001b[0m\u001b[0;34m.\u001b[0m\u001b[0mon_train_batch_end\u001b[0m\u001b[0;34m(\u001b[0m\u001b[0mstep\u001b[0m\u001b[0;34m,\u001b[0m \u001b[0mlogs\u001b[0m\u001b[0;34m)\u001b[0m\u001b[0;34m\u001b[0m\u001b[0;34m\u001b[0m\u001b[0m\n\u001b[1;32m    373\u001b[0m                     \u001b[0;32mif\u001b[0m \u001b[0mself\u001b[0m\u001b[0;34m.\u001b[0m\u001b[0mstop_training\u001b[0m\u001b[0;34m:\u001b[0m\u001b[0;34m\u001b[0m\u001b[0;34m\u001b[0m\u001b[0m\n",
            "\u001b[0;32m/usr/local/lib/python3.11/dist-packages/keras/src/backend/tensorflow/trainer.py\u001b[0m in \u001b[0;36mfunction\u001b[0;34m(iterator)\u001b[0m\n\u001b[1;32m    217\u001b[0m                 \u001b[0miterator\u001b[0m\u001b[0;34m,\u001b[0m \u001b[0;34m(\u001b[0m\u001b[0mtf\u001b[0m\u001b[0;34m.\u001b[0m\u001b[0mdata\u001b[0m\u001b[0;34m.\u001b[0m\u001b[0mIterator\u001b[0m\u001b[0;34m,\u001b[0m \u001b[0mtf\u001b[0m\u001b[0;34m.\u001b[0m\u001b[0mdistribute\u001b[0m\u001b[0;34m.\u001b[0m\u001b[0mDistributedIterator\u001b[0m\u001b[0;34m)\u001b[0m\u001b[0;34m\u001b[0m\u001b[0;34m\u001b[0m\u001b[0m\n\u001b[1;32m    218\u001b[0m             ):\n\u001b[0;32m--> 219\u001b[0;31m                 \u001b[0mopt_outputs\u001b[0m \u001b[0;34m=\u001b[0m \u001b[0mmulti_step_on_iterator\u001b[0m\u001b[0;34m(\u001b[0m\u001b[0miterator\u001b[0m\u001b[0;34m)\u001b[0m\u001b[0;34m\u001b[0m\u001b[0;34m\u001b[0m\u001b[0m\n\u001b[0m\u001b[1;32m    220\u001b[0m                 \u001b[0;32mif\u001b[0m \u001b[0;32mnot\u001b[0m \u001b[0mopt_outputs\u001b[0m\u001b[0;34m.\u001b[0m\u001b[0mhas_value\u001b[0m\u001b[0;34m(\u001b[0m\u001b[0;34m)\u001b[0m\u001b[0;34m:\u001b[0m\u001b[0;34m\u001b[0m\u001b[0;34m\u001b[0m\u001b[0m\n\u001b[1;32m    221\u001b[0m                     \u001b[0;32mraise\u001b[0m \u001b[0mStopIteration\u001b[0m\u001b[0;34m\u001b[0m\u001b[0;34m\u001b[0m\u001b[0m\n",
            "\u001b[0;32m/usr/local/lib/python3.11/dist-packages/tensorflow/python/util/traceback_utils.py\u001b[0m in \u001b[0;36merror_handler\u001b[0;34m(*args, **kwargs)\u001b[0m\n\u001b[1;32m    148\u001b[0m     \u001b[0mfiltered_tb\u001b[0m \u001b[0;34m=\u001b[0m \u001b[0;32mNone\u001b[0m\u001b[0;34m\u001b[0m\u001b[0;34m\u001b[0m\u001b[0m\n\u001b[1;32m    149\u001b[0m     \u001b[0;32mtry\u001b[0m\u001b[0;34m:\u001b[0m\u001b[0;34m\u001b[0m\u001b[0;34m\u001b[0m\u001b[0m\n\u001b[0;32m--> 150\u001b[0;31m       \u001b[0;32mreturn\u001b[0m \u001b[0mfn\u001b[0m\u001b[0;34m(\u001b[0m\u001b[0;34m*\u001b[0m\u001b[0margs\u001b[0m\u001b[0;34m,\u001b[0m \u001b[0;34m**\u001b[0m\u001b[0mkwargs\u001b[0m\u001b[0;34m)\u001b[0m\u001b[0;34m\u001b[0m\u001b[0;34m\u001b[0m\u001b[0m\n\u001b[0m\u001b[1;32m    151\u001b[0m     \u001b[0;32mexcept\u001b[0m \u001b[0mException\u001b[0m \u001b[0;32mas\u001b[0m \u001b[0me\u001b[0m\u001b[0;34m:\u001b[0m\u001b[0;34m\u001b[0m\u001b[0;34m\u001b[0m\u001b[0m\n\u001b[1;32m    152\u001b[0m       \u001b[0mfiltered_tb\u001b[0m \u001b[0;34m=\u001b[0m \u001b[0m_process_traceback_frames\u001b[0m\u001b[0;34m(\u001b[0m\u001b[0me\u001b[0m\u001b[0;34m.\u001b[0m\u001b[0m__traceback__\u001b[0m\u001b[0;34m)\u001b[0m\u001b[0;34m\u001b[0m\u001b[0;34m\u001b[0m\u001b[0m\n",
            "\u001b[0;32m/usr/local/lib/python3.11/dist-packages/tensorflow/python/eager/polymorphic_function/polymorphic_function.py\u001b[0m in \u001b[0;36m__call__\u001b[0;34m(self, *args, **kwds)\u001b[0m\n\u001b[1;32m    831\u001b[0m \u001b[0;34m\u001b[0m\u001b[0m\n\u001b[1;32m    832\u001b[0m       \u001b[0;32mwith\u001b[0m \u001b[0mOptionalXlaContext\u001b[0m\u001b[0;34m(\u001b[0m\u001b[0mself\u001b[0m\u001b[0;34m.\u001b[0m\u001b[0m_jit_compile\u001b[0m\u001b[0;34m)\u001b[0m\u001b[0;34m:\u001b[0m\u001b[0;34m\u001b[0m\u001b[0;34m\u001b[0m\u001b[0m\n\u001b[0;32m--> 833\u001b[0;31m         \u001b[0mresult\u001b[0m \u001b[0;34m=\u001b[0m \u001b[0mself\u001b[0m\u001b[0;34m.\u001b[0m\u001b[0m_call\u001b[0m\u001b[0;34m(\u001b[0m\u001b[0;34m*\u001b[0m\u001b[0margs\u001b[0m\u001b[0;34m,\u001b[0m \u001b[0;34m**\u001b[0m\u001b[0mkwds\u001b[0m\u001b[0;34m)\u001b[0m\u001b[0;34m\u001b[0m\u001b[0;34m\u001b[0m\u001b[0m\n\u001b[0m\u001b[1;32m    834\u001b[0m \u001b[0;34m\u001b[0m\u001b[0m\n\u001b[1;32m    835\u001b[0m       \u001b[0mnew_tracing_count\u001b[0m \u001b[0;34m=\u001b[0m \u001b[0mself\u001b[0m\u001b[0;34m.\u001b[0m\u001b[0mexperimental_get_tracing_count\u001b[0m\u001b[0;34m(\u001b[0m\u001b[0;34m)\u001b[0m\u001b[0;34m\u001b[0m\u001b[0;34m\u001b[0m\u001b[0m\n",
            "\u001b[0;32m/usr/local/lib/python3.11/dist-packages/tensorflow/python/eager/polymorphic_function/polymorphic_function.py\u001b[0m in \u001b[0;36m_call\u001b[0;34m(self, *args, **kwds)\u001b[0m\n\u001b[1;32m    876\u001b[0m       \u001b[0;31m# In this case we have not created variables on the first call. So we can\u001b[0m\u001b[0;34m\u001b[0m\u001b[0;34m\u001b[0m\u001b[0m\n\u001b[1;32m    877\u001b[0m       \u001b[0;31m# run the first trace but we should fail if variables are created.\u001b[0m\u001b[0;34m\u001b[0m\u001b[0;34m\u001b[0m\u001b[0m\n\u001b[0;32m--> 878\u001b[0;31m       results = tracing_compilation.call_function(\n\u001b[0m\u001b[1;32m    879\u001b[0m           \u001b[0margs\u001b[0m\u001b[0;34m,\u001b[0m \u001b[0mkwds\u001b[0m\u001b[0;34m,\u001b[0m \u001b[0mself\u001b[0m\u001b[0;34m.\u001b[0m\u001b[0m_variable_creation_config\u001b[0m\u001b[0;34m\u001b[0m\u001b[0;34m\u001b[0m\u001b[0m\n\u001b[1;32m    880\u001b[0m       )\n",
            "\u001b[0;32m/usr/local/lib/python3.11/dist-packages/tensorflow/python/eager/polymorphic_function/tracing_compilation.py\u001b[0m in \u001b[0;36mcall_function\u001b[0;34m(args, kwargs, tracing_options)\u001b[0m\n\u001b[1;32m    137\u001b[0m   \u001b[0mbound_args\u001b[0m \u001b[0;34m=\u001b[0m \u001b[0mfunction\u001b[0m\u001b[0;34m.\u001b[0m\u001b[0mfunction_type\u001b[0m\u001b[0;34m.\u001b[0m\u001b[0mbind\u001b[0m\u001b[0;34m(\u001b[0m\u001b[0;34m*\u001b[0m\u001b[0margs\u001b[0m\u001b[0;34m,\u001b[0m \u001b[0;34m**\u001b[0m\u001b[0mkwargs\u001b[0m\u001b[0;34m)\u001b[0m\u001b[0;34m\u001b[0m\u001b[0;34m\u001b[0m\u001b[0m\n\u001b[1;32m    138\u001b[0m   \u001b[0mflat_inputs\u001b[0m \u001b[0;34m=\u001b[0m \u001b[0mfunction\u001b[0m\u001b[0;34m.\u001b[0m\u001b[0mfunction_type\u001b[0m\u001b[0;34m.\u001b[0m\u001b[0munpack_inputs\u001b[0m\u001b[0;34m(\u001b[0m\u001b[0mbound_args\u001b[0m\u001b[0;34m)\u001b[0m\u001b[0;34m\u001b[0m\u001b[0;34m\u001b[0m\u001b[0m\n\u001b[0;32m--> 139\u001b[0;31m   return function._call_flat(  # pylint: disable=protected-access\n\u001b[0m\u001b[1;32m    140\u001b[0m       \u001b[0mflat_inputs\u001b[0m\u001b[0;34m,\u001b[0m \u001b[0mcaptured_inputs\u001b[0m\u001b[0;34m=\u001b[0m\u001b[0mfunction\u001b[0m\u001b[0;34m.\u001b[0m\u001b[0mcaptured_inputs\u001b[0m\u001b[0;34m\u001b[0m\u001b[0;34m\u001b[0m\u001b[0m\n\u001b[1;32m    141\u001b[0m   )\n",
            "\u001b[0;32m/usr/local/lib/python3.11/dist-packages/tensorflow/python/eager/polymorphic_function/concrete_function.py\u001b[0m in \u001b[0;36m_call_flat\u001b[0;34m(self, tensor_inputs, captured_inputs)\u001b[0m\n\u001b[1;32m   1320\u001b[0m         and executing_eagerly):\n\u001b[1;32m   1321\u001b[0m       \u001b[0;31m# No tape is watching; skip to running the function.\u001b[0m\u001b[0;34m\u001b[0m\u001b[0;34m\u001b[0m\u001b[0m\n\u001b[0;32m-> 1322\u001b[0;31m       \u001b[0;32mreturn\u001b[0m \u001b[0mself\u001b[0m\u001b[0;34m.\u001b[0m\u001b[0m_inference_function\u001b[0m\u001b[0;34m.\u001b[0m\u001b[0mcall_preflattened\u001b[0m\u001b[0;34m(\u001b[0m\u001b[0margs\u001b[0m\u001b[0;34m)\u001b[0m\u001b[0;34m\u001b[0m\u001b[0;34m\u001b[0m\u001b[0m\n\u001b[0m\u001b[1;32m   1323\u001b[0m     forward_backward = self._select_forward_and_backward_functions(\n\u001b[1;32m   1324\u001b[0m         \u001b[0margs\u001b[0m\u001b[0;34m,\u001b[0m\u001b[0;34m\u001b[0m\u001b[0;34m\u001b[0m\u001b[0m\n",
            "\u001b[0;32m/usr/local/lib/python3.11/dist-packages/tensorflow/python/eager/polymorphic_function/atomic_function.py\u001b[0m in \u001b[0;36mcall_preflattened\u001b[0;34m(self, args)\u001b[0m\n\u001b[1;32m    214\u001b[0m   \u001b[0;32mdef\u001b[0m \u001b[0mcall_preflattened\u001b[0m\u001b[0;34m(\u001b[0m\u001b[0mself\u001b[0m\u001b[0;34m,\u001b[0m \u001b[0margs\u001b[0m\u001b[0;34m:\u001b[0m \u001b[0mSequence\u001b[0m\u001b[0;34m[\u001b[0m\u001b[0mcore\u001b[0m\u001b[0;34m.\u001b[0m\u001b[0mTensor\u001b[0m\u001b[0;34m]\u001b[0m\u001b[0;34m)\u001b[0m \u001b[0;34m->\u001b[0m \u001b[0mAny\u001b[0m\u001b[0;34m:\u001b[0m\u001b[0;34m\u001b[0m\u001b[0;34m\u001b[0m\u001b[0m\n\u001b[1;32m    215\u001b[0m     \u001b[0;34m\"\"\"Calls with flattened tensor inputs and returns the structured output.\"\"\"\u001b[0m\u001b[0;34m\u001b[0m\u001b[0;34m\u001b[0m\u001b[0m\n\u001b[0;32m--> 216\u001b[0;31m     \u001b[0mflat_outputs\u001b[0m \u001b[0;34m=\u001b[0m \u001b[0mself\u001b[0m\u001b[0;34m.\u001b[0m\u001b[0mcall_flat\u001b[0m\u001b[0;34m(\u001b[0m\u001b[0;34m*\u001b[0m\u001b[0margs\u001b[0m\u001b[0;34m)\u001b[0m\u001b[0;34m\u001b[0m\u001b[0;34m\u001b[0m\u001b[0m\n\u001b[0m\u001b[1;32m    217\u001b[0m     \u001b[0;32mreturn\u001b[0m \u001b[0mself\u001b[0m\u001b[0;34m.\u001b[0m\u001b[0mfunction_type\u001b[0m\u001b[0;34m.\u001b[0m\u001b[0mpack_output\u001b[0m\u001b[0;34m(\u001b[0m\u001b[0mflat_outputs\u001b[0m\u001b[0;34m)\u001b[0m\u001b[0;34m\u001b[0m\u001b[0;34m\u001b[0m\u001b[0m\n\u001b[1;32m    218\u001b[0m \u001b[0;34m\u001b[0m\u001b[0m\n",
            "\u001b[0;32m/usr/local/lib/python3.11/dist-packages/tensorflow/python/eager/polymorphic_function/atomic_function.py\u001b[0m in \u001b[0;36mcall_flat\u001b[0;34m(self, *args)\u001b[0m\n\u001b[1;32m    249\u001b[0m         \u001b[0;32mwith\u001b[0m \u001b[0mrecord\u001b[0m\u001b[0;34m.\u001b[0m\u001b[0mstop_recording\u001b[0m\u001b[0;34m(\u001b[0m\u001b[0;34m)\u001b[0m\u001b[0;34m:\u001b[0m\u001b[0;34m\u001b[0m\u001b[0;34m\u001b[0m\u001b[0m\n\u001b[1;32m    250\u001b[0m           \u001b[0;32mif\u001b[0m \u001b[0mself\u001b[0m\u001b[0;34m.\u001b[0m\u001b[0m_bound_context\u001b[0m\u001b[0;34m.\u001b[0m\u001b[0mexecuting_eagerly\u001b[0m\u001b[0;34m(\u001b[0m\u001b[0;34m)\u001b[0m\u001b[0;34m:\u001b[0m\u001b[0;34m\u001b[0m\u001b[0;34m\u001b[0m\u001b[0m\n\u001b[0;32m--> 251\u001b[0;31m             outputs = self._bound_context.call_function(\n\u001b[0m\u001b[1;32m    252\u001b[0m                 \u001b[0mself\u001b[0m\u001b[0;34m.\u001b[0m\u001b[0mname\u001b[0m\u001b[0;34m,\u001b[0m\u001b[0;34m\u001b[0m\u001b[0;34m\u001b[0m\u001b[0m\n\u001b[1;32m    253\u001b[0m                 \u001b[0mlist\u001b[0m\u001b[0;34m(\u001b[0m\u001b[0margs\u001b[0m\u001b[0;34m)\u001b[0m\u001b[0;34m,\u001b[0m\u001b[0;34m\u001b[0m\u001b[0;34m\u001b[0m\u001b[0m\n",
            "\u001b[0;32m/usr/local/lib/python3.11/dist-packages/tensorflow/python/eager/context.py\u001b[0m in \u001b[0;36mcall_function\u001b[0;34m(self, name, tensor_inputs, num_outputs)\u001b[0m\n\u001b[1;32m   1681\u001b[0m     \u001b[0mcancellation_context\u001b[0m \u001b[0;34m=\u001b[0m \u001b[0mcancellation\u001b[0m\u001b[0;34m.\u001b[0m\u001b[0mcontext\u001b[0m\u001b[0;34m(\u001b[0m\u001b[0;34m)\u001b[0m\u001b[0;34m\u001b[0m\u001b[0;34m\u001b[0m\u001b[0m\n\u001b[1;32m   1682\u001b[0m     \u001b[0;32mif\u001b[0m \u001b[0mcancellation_context\u001b[0m \u001b[0;32mis\u001b[0m \u001b[0;32mNone\u001b[0m\u001b[0;34m:\u001b[0m\u001b[0;34m\u001b[0m\u001b[0;34m\u001b[0m\u001b[0m\n\u001b[0;32m-> 1683\u001b[0;31m       outputs = execute.execute(\n\u001b[0m\u001b[1;32m   1684\u001b[0m           \u001b[0mname\u001b[0m\u001b[0;34m.\u001b[0m\u001b[0mdecode\u001b[0m\u001b[0;34m(\u001b[0m\u001b[0;34m\"utf-8\"\u001b[0m\u001b[0;34m)\u001b[0m\u001b[0;34m,\u001b[0m\u001b[0;34m\u001b[0m\u001b[0;34m\u001b[0m\u001b[0m\n\u001b[1;32m   1685\u001b[0m           \u001b[0mnum_outputs\u001b[0m\u001b[0;34m=\u001b[0m\u001b[0mnum_outputs\u001b[0m\u001b[0;34m,\u001b[0m\u001b[0;34m\u001b[0m\u001b[0;34m\u001b[0m\u001b[0m\n",
            "\u001b[0;32m/usr/local/lib/python3.11/dist-packages/tensorflow/python/eager/execute.py\u001b[0m in \u001b[0;36mquick_execute\u001b[0;34m(op_name, num_outputs, inputs, attrs, ctx, name)\u001b[0m\n\u001b[1;32m     51\u001b[0m   \u001b[0;32mtry\u001b[0m\u001b[0;34m:\u001b[0m\u001b[0;34m\u001b[0m\u001b[0;34m\u001b[0m\u001b[0m\n\u001b[1;32m     52\u001b[0m     \u001b[0mctx\u001b[0m\u001b[0;34m.\u001b[0m\u001b[0mensure_initialized\u001b[0m\u001b[0;34m(\u001b[0m\u001b[0;34m)\u001b[0m\u001b[0;34m\u001b[0m\u001b[0;34m\u001b[0m\u001b[0m\n\u001b[0;32m---> 53\u001b[0;31m     tensors = pywrap_tfe.TFE_Py_Execute(ctx._handle, device_name, op_name,\n\u001b[0m\u001b[1;32m     54\u001b[0m                                         inputs, attrs, num_outputs)\n\u001b[1;32m     55\u001b[0m   \u001b[0;32mexcept\u001b[0m \u001b[0mcore\u001b[0m\u001b[0;34m.\u001b[0m\u001b[0m_NotOkStatusException\u001b[0m \u001b[0;32mas\u001b[0m \u001b[0me\u001b[0m\u001b[0;34m:\u001b[0m\u001b[0;34m\u001b[0m\u001b[0;34m\u001b[0m\u001b[0m\n",
            "\u001b[0;31mKeyboardInterrupt\u001b[0m: "
          ]
        }
      ],
      "source": [
        "\n",
        "hist = model.fit(x_train, y_train, batch_size=32, epochs=10, validation_data=(x_valid, y_valid), verbose=2, shuffle=True)"
      ]
    },
    {
      "cell_type": "code",
      "execution_count": null,
      "id": "dd465701-d9e2-4994-ad45-ed8d43b70432",
      "metadata": {
        "id": "dd465701-d9e2-4994-ad45-ed8d43b70432"
      },
      "outputs": [],
      "source": [
        "score = model.evaluate(x_test, y_test, verbose=0)\n",
        "print('\\n', 'Test accuracy:', score[1])"
      ]
    },
    {
      "cell_type": "markdown",
      "source": [
        "현재 Test 결과가 약 64%가 나옴을 알 수 있다.\n",
        "추가 기법을 공부해보고 정확도를 높이는 연구가 필요함."
      ],
      "metadata": {
        "id": "i1-uMSR-k1pD"
      },
      "id": "i1-uMSR-k1pD"
    },
    {
      "cell_type": "markdown",
      "source": [
        "---\n",
        "문의사항 : horsnal@skku.edu\n",
        "강의자료 : https://zrr.kr/tW0q\n",
        "---"
      ],
      "metadata": {
        "id": "Z6wewDbdReMj"
      },
      "id": "Z6wewDbdReMj"
    },
    {
      "cell_type": "code",
      "execution_count": null,
      "id": "aa59df6e-9584-4d83-996b-de964afd47ec",
      "metadata": {
        "id": "aa59df6e-9584-4d83-996b-de964afd47ec"
      },
      "outputs": [],
      "source": []
    },
    {
      "cell_type": "code",
      "execution_count": null,
      "id": "66350d25-deb1-4bba-82e3-d1f17dd36c82",
      "metadata": {
        "id": "66350d25-deb1-4bba-82e3-d1f17dd36c82"
      },
      "outputs": [],
      "source": []
    }
  ],
  "metadata": {
    "kernelspec": {
      "display_name": "Python 3 (ipykernel)",
      "language": "python",
      "name": "python3"
    },
    "language_info": {
      "codemirror_mode": {
        "name": "ipython",
        "version": 3
      },
      "file_extension": ".py",
      "mimetype": "text/x-python",
      "name": "python",
      "nbconvert_exporter": "python",
      "pygments_lexer": "ipython3",
      "version": "3.8.13"
    },
    "colab": {
      "provenance": [],
      "include_colab_link": true
    }
  },
  "nbformat": 4,
  "nbformat_minor": 5
}